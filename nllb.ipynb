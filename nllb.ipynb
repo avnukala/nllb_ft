{
 "cells": [
  {
   "cell_type": "code",
   "execution_count": 56,
   "metadata": {},
   "outputs": [],
   "source": [
    "from transformers import AutoTokenizer, AutoModel, AutoModelForSeq2SeqLM\n",
    "import torch\n",
    "import torch.nn as nn\n",
    "import numpy as np\n",
    "import pandas as pd\n",
    "from sklearn.model_selection import train_test_split\n",
    "from torch.utils.data import DataLoader, TensorDataset\n",
    "from tqdm import tqdm\n",
    "from nltk.translate.bleu_score import corpus_bleu\n",
    "import random\n",
    "from copy import deepcopy\n",
    "from tqdm.auto import trange"
   ]
  },
  {
   "cell_type": "code",
   "execution_count": 8,
   "metadata": {},
   "outputs": [
    {
     "name": "stdout",
     "output_type": "stream",
     "text": [
      "160000 10000 10000\n"
     ]
    }
   ],
   "source": [
    "train_path = \"en_kr_data/train/ko2en_training_csv/ko2en_finance_1_training.csv\"\n",
    "val_path = \"en_kr_data/val/ko2en_validation_csv/ko2en_finance_2_validation.csv\" \n",
    "train_df = pd.read_csv(train_path, sep=',')\n",
    "val_test_df = pd.read_csv(val_path, sep=',')\n",
    "val_df, test_df = val_test_df[:len(val_test_df)//2], val_test_df[len(val_test_df)//2:]\n",
    "print(len(train_df), len(val_df), len(test_df))\n",
    "\n",
    "#sort sentences by length\n",
    "#prune sentences over 20 words\n",
    "#train set small\n",
    "#get scores for model"
   ]
  },
  {
   "cell_type": "code",
   "execution_count": 11,
   "metadata": {},
   "outputs": [
    {
     "name": "stderr",
     "output_type": "stream",
     "text": [
      "config.json: 100%|██████████| 846/846 [00:00<00:00, 5.63MB/s]\n",
      "pytorch_model.bin: 100%|██████████| 2.46G/2.46G [01:44<00:00, 23.5MB/s]\n",
      "generation_config.json: 100%|██████████| 189/189 [00:00<00:00, 771kB/s]\n",
      "/Users/christine/miniconda3/envs/mt-class/lib/python3.11/site-packages/transformers/generation/utils.py:1369: UserWarning: Using `max_length`'s default (200) to control the generation length. This behaviour is deprecated and will be removed from the config in v5 of Transformers -- we recommend using `max_new_tokens` to control the maximum length of the generation.\n",
      "  warnings.warn(\n"
     ]
    },
    {
     "name": "stdout",
     "output_type": "stream",
     "text": [
      "However, there is a difference of opinion as to whether this trend will continue in the second half.\n"
     ]
    }
   ],
   "source": [
    "#kor_Hang\n",
    "\n",
    "name = \"facebook/nllb-200-distilled-600M\"\n",
    "tokenizer = AutoTokenizer.from_pretrained(name)\n",
    "nllb = AutoModelForSeq2SeqLM.from_pretrained(name)"
   ]
  },
  {
   "cell_type": "code",
   "execution_count": 12,
   "metadata": {},
   "outputs": [
    {
     "name": "stdout",
     "output_type": "stream",
     "text": [
      "However, there is a difference of opinion as to whether this trend will continue in the second half.\n"
     ]
    }
   ],
   "source": [
    "tokenizer.src_lang = \"kor_Hang\"\n",
    "inputs = tokenizer(text=\"다만 하반기에도 이같은 기조가 이어질 지에 대해서는 의견이 분분하다.\", return_tensors=\"pt\")\n",
    "translated_tokens = nllb.generate(\n",
    "    **inputs, forced_bos_token_id=tokenizer.lang_code_to_id[\"eng_Latn\"]\n",
    ")\n",
    "print(tokenizer.decode(translated_tokens[0], skip_special_tokens=True))"
   ]
  },
  {
   "cell_type": "code",
   "execution_count": 20,
   "metadata": {},
   "outputs": [
    {
     "name": "stderr",
     "output_type": "stream",
     "text": [
      "  2%|▏         | 1/63 [00:07<07:50,  7.59s/it]"
     ]
    },
    {
     "name": "stdout",
     "output_type": "stream",
     "text": [
      "[\"And it's also been analyzed that by the end of the year, time-lockers are working on a kind of time-tracking strategy.\", 'Hanjin Group has already had experience in resolving two-year-old conflicts through subsidiary splits.', 'Her brother, Hathawas GS Home Shopping Vice President, was named President-in-Office.', 'The failure of the Real Estate Project Financing (PF) led to a crisis in the non-resident sector.', 'The government has warned of a follow-up response to the rising foreclosure rate in some areas, including Seoul, which has been shut down after the real estate measures.', \"So the payroll is 2 million yuan, and it's 1.4 million yuan, and if you give 1.4 million yuan, then 90 percent of that, or 1.26 million yuan, is government subsidized.\", 'The activation of cross-border transactions based on the Internet, mobile, etc. is shaking the local customer base.', 'Lotto, which announced the transition to an emergency operating system, announced an aggressive investment plan to invest 50 trillion euros in its domestic and foreign business sector by 2023, shortly after its president, Shin Shin-dong-bin, returned to management in October.', 'System semiconductors are one of the areas where Samsung competes with Huawei in the global market.', 'The dollar demand for financial institutions remained at half the $8.5 billion limit on the secondary supply of Hanmi currency swap funds.', 'The Lotto Group said that the president of the company, Shin-dong-bin, bought 47,400 shares of the shares on the 20th.', 'The Ministry of Finance explained that the price of raw materials, excluding agricultural products and petroleum products, is increasing by 1%.', 'He said that \"the regional banks must be faithful to their financial intermediation functions so that the local economy can survive\".', 'The main characters are the key people who plan, communicate and execute the project themselves.', 'In this market, coupants, Uberits and others are also entering the market, with fierce competition.', 'The term of use is until 31 August and the due in-full-time payment is a principle and the balance is not repaid and is destroyed.']\n"
     ]
    },
    {
     "name": "stderr",
     "output_type": "stream",
     "text": [
      "  3%|▎         | 2/63 [00:19<10:22, 10.20s/it]"
     ]
    },
    {
     "name": "stdout",
     "output_type": "stream",
     "text": [
      "['A Financial Directorate official said on 17 May that \"if there is a notification of any real estate transactions captured by a government agency, we will separate further fact-checking to see how the funds were actually used or whether there are no problems with the loan regulations\".', 'In fact, under the Capital Markets Act, the minimum investment amount of the operating participatory PEF mutual fund invested by the family of the Minister of Finance is 300 million yuan, and the professional investment mutual fund must invest more than 100 million yuan.', 'There are trends in consumption, savings, investments and other economic activities.', 'I thought lime was a fruit name.', 'Seoul City is providing emergency funds to minimize small business casualties due to the novel coronavirus.', 'Bain Capital, Hyal, reportedly has relatively little interest in acquiring.', 'Using machine learning techniques, AI reads the samopond report and assesses the appropriateness of each item and supports the investigation.', 'The operator side concludes that this sector allocation strategy was in place.', \"A trust deed means borrowing a corporation's shares in someone else's name, and that's different from a formal owner and a real owner.\", 'The financial authorities have also made an unofficial statement that the results of the DLF review committee of the Treasury Board are excessive.', 'Meanwhile, the annual growth rate, including the growth rate for the fourth quarter of the year, will be announced by the Bank of Korea on 22 October.', 'So, one day at a time, a quick fixing of the underlying earnings-to-earnings ratio will help businesses in many ways.', \"And it's also the time when your kids go to college or get married and so on.\", \"According to the Bank of Korea's 2019 mid-payment trend, the average daily card use last year was 2.5 trillion billion, up 5.8% from a year ago.\", 'Han explained that the fall in the price of consumer goods in the month of January \"has caused a deterioration in the perception of the financial situation of the game and households due to the effects of Japanese export regulation, U.S.-China trade dispute, export deflation, state price decline, exchange rate rise, etc\".', \"The National Regional Children's Center, a warm depository for children in need of care after class, has delivered 50 million kitchenware per day to 100 locations, and recently found a vital area children's center that has been selected as a support facility.\"]\n"
     ]
    },
    {
     "name": "stderr",
     "output_type": "stream",
     "text": [
      "  5%|▍         | 3/63 [00:27<08:58,  8.98s/it]"
     ]
    },
    {
     "name": "stdout",
     "output_type": "stream",
     "text": [
      "['The Bank for International Settlements (BIS) has a 15.24% regulatory rate.', 'For good companies, it can be a good strategy to capture the time of low sales, as the market is alive at any given time.', 'So, if you buy a drink, the total purchase price is $519,000, but you can get a tumbler at a discount of $300 per person, which is $57,000.', \"A foreign company holding more than 50% of the shares or a corporation that is 'in fact dominant' cannot hold an airline and is immediately the owner of a license cancellation.\", 'The report also shows that domestic securities and carriers are competing in foreign real estate investments and are not doing well.', 'An official at the event explained that \"it means that our oil industry is in an unprecedented crisis\".', \"Car tax financing is the key to the diversification of card companies that were starving to find new business due to the decline in the company's corporate fee revenue and increased cardroom regulation.\", 'Facebook was influenced by the comments made by Chief Financial Officer David Werner (CFO) in a press conference the night before: \"A further revenue decline is expected\" and shares fell 1.9% on the previous day.', 'The Finance Commissioner of Silverstone rejected any suggestion that the 12-16 joint venture measures that target loans for homes over 1.5 billion won would not stop the domestic drill of middle-class people.', 'If voice-feeding is suspected, it verifies that the person who sent the money has the same cell phone number as the person who sent the account number.', \"The president was charged with dismissal from office in the 2014 administration advisory process and sent to the prosecutor's office as an indictment, and the possibility of a follow-up to the former president cannot be excluded.\", \"As the rate of ownership of aircraft is low, the cost of aircraft rental is putting pressure on the company's financial structure.\", 'US President Donald Trump has been faced with the question of whether or not an internal voice calling for a strong response to North Korea\\'s \"Christmas gift\" threat will respond to it in the midst of a storm.', 'The early repayment is possible without a separate intermediate repayment fee depending on the economic situation of the aid worker.', 'The Korean Exchange is considering whether to ban the foreign securities company Merrill Lynch in connection with initial public offering.', 'A new owner has been nominated to acquire Asia Airlines, which is in the process of being sold.']\n"
     ]
    },
    {
     "name": "stderr",
     "output_type": "stream",
     "text": [
      "  6%|▋         | 4/63 [00:34<08:05,  8.22s/it]"
     ]
    },
    {
     "name": "stdout",
     "output_type": "stream",
     "text": [
      "[\"According to the Ministry of Land Transport's 2018 housing survey, residents of Seoul have a 42.9% rate of self-residence in their own homes.\", 'The victims claimed that the two banks had been deceiving customers from the time and manner in which they sold DLF products to the design itself, to the point of being suspicious of the incomplete sale.', 'The president has joined in and empowered the fund.', \"With the increase in the demand for loans for companies facing business difficulties due to coronavirus-19, the bank's corporate earnings last month were the highest ever.\", 'He stressed that \"the size of the corporate group should not be disadvantaged, but the illegal practices in the market should not be tolerated, so we will strictly enforce the law against illegal acts regardless of the size of the company\".', 'The race was up 0.15% from the previous race and the upward spiral was even greater.', 'The reverse burden has been increased by insurers who have to cover the interest rate burden of insurance debt through asset management.', \"The uncertainty that Japan's export regulation could be expanded to include financial stimulus has led to continued foreign trade.\", 'The big companies have to take over the small, low-income companies and clean up the market for self-competition.', \"Not only do you have a lot of air fuel, but you don't have a place to buy it at a discount.\", 'The bill, passed by Congress, has opened the possibility of KT becoming the largest shareholder in the Cape Bank.', 'Finally, since 83 the zero-level banking system has been abolished, and investment and mortgage-backed securities and re-security regulation measures have been implemented.', \"The increase in the level of deposit protection raises the risk of the financial institutions' premium on deposits being increased and the burden on consumers being transferred.\", 'The total employment of 260 people is expected to decline significantly this year compared to last year, and the competition among local job seekers is expected to become even more intense.', 'The president, a writer, described it as \"an unprecedented comprehensive measure in terms of size and content\".', 'The then chairman stressed that \"the existing business model should be removed and strengthened by a new paradigm that integrates information technology (IT) and marketing\", and was deeply involved in the MOU with Kakao.']\n"
     ]
    },
    {
     "name": "stderr",
     "output_type": "stream",
     "text": [
      "  8%|▊         | 5/63 [00:42<07:54,  8.19s/it]"
     ]
    },
    {
     "name": "stdout",
     "output_type": "stream",
     "text": [
      "[\"The main issue is whether the bank's mystery shopping after last year was not enough to address the DLF's grievances, and whether the bank's director-general, Yunnan, refused to release the final results.\", 'If the deposit rate is determined within a few days, the loan superfund (LPR), which acts as the standard rate on the 20th of the following month, will also be announced.', 'Imagin announced on Thursday that the share of special regulators like Synergy Investment Inc. fluctuated from 4.77% to 5.23%.', 'The largest number of private investors was 3654 with 7326 billion, accounting for 89.1% of total sales.', 'Acquirers are also keen to place a big bet on new stock purchases that will be invested in Asia.', \"The launching ceremony was attended by 60 key officials, including the Chief Patent Officer of Parkwon-ju, Vice Chairman of the Hands-on Finance Committee, Chairman of the South Korean Development Development Corporation's Shanghai branch, and seven other banks, including Industrial Bank and Corporate Bank.\", 'A government official said: \"We will work to get the proposed pension reform bill passed by Congress\".', 'The second largest shareholder, KCGI, is also expected to reignite the power of the opposition and the dispute over the management.', 'The risk-oriented investor ratio among the securities firms is very different.', 'The Treasurer also said that it will strengthen the management and supervision of financial market monitoring and debt tax increases to ensure that uncertainties such as household and self-employed debts due to the coronavirus 19 increase and not spread to systemic risks.', 'The official explained that \"the original oil purchase contract amount was fixed, but the sales did not come out as much and the stock was stored in the form of anti-product oil, cream and other products\".', 'The easing of tensions between the US and Iran seems to be influenced by concerns about trade disparities, such as the signing of the first phase of the US-China trade agreement next month.', \"If you use a strain of strain therapy for a new strain of the super-powered virus, you'll be able to feed the hair properly.\", 'FedEx announced three days ago that the dividend rate for central bank holding companies and special regulators fluctuated from 29.06% to 34.97%.', 'The analysis is that the stability of EMP funds is being impaired in a growth of internal and external uncertainty.', 'A Bank of Korea official explained that \"if the interest rate breaks 1,200 yuan, there is a concern that the stock funds may escape due to the loss of interest\".']\n"
     ]
    },
    {
     "name": "stderr",
     "output_type": "stream",
     "text": [
      " 10%|▉         | 6/63 [00:50<07:50,  8.25s/it]"
     ]
    },
    {
     "name": "stdout",
     "output_type": "stream",
     "text": [
      "['Our finance explained that the forecast was based on the bottom-down real estate in relation to the net earnings in the second and fourth quarters because the loan debt sales profit and the repayment of the commission of the Han Chinese company were included in the single-payer factor of 53 billion yuan and 850 billion yuan respectively.', 'In the financial markets, it is more likely to be a competitor to the Kacao Bank than a competitor to the Toss and the Kacao.', 'The decrease in the commission fees due to the reduction in the share transaction fee was due to the decrease in the commission revenue of the investment bank (IB) in the areas of acquisition, lead, acquisition, merger and so on.', 'Pasco announced 11 days ago that the prevalence of disease outbreaks and special treatment rates fluctuated from 71.67% to 70.42%.', 'If you are newly registered with the retirement pension individual IPR using non-frontal channels such as BNK Bank Mobile Banking or Internet Banking, a fee of 0.2%P is applied.', 'Also, the intermediate-payment service, which can be used immediately when minimum wage workers need wages as much as they worked with interest rates at the first level of the financial system, will be introduced from January next year.', 'O\\'Chang-Soon, a senior research fellow at the U.S. Securities and Exchange Commission, said: \"The position of U.S. Reliance is already expected in the market to be moderate, but the country is more concerned about the recession than the United States and we have to respond to it\".', 'The aim is to make clearer guidelines in the context of the ongoing global trade environment uncertainty, including the trade dispute between the two countries and the uncertainty of the Middle East and Hong Kong, and Brexit.', 'In terms of scale, the index of midsize growth was higher than the small office preferred by the first-generation population.', 'China has been actively addressing the United States by allowing foreign capital to establish banks with 100% stake in the bank, and raising expectations of negotiations.', 'The IB industry sees the funds raised by the Merit Bank to issue the securities as a permanent loan to the affiliate company.', 'Despite sales revenue trading more than 10% of the consensus, and a $6 billion rebate inflow due to the aftermarket price inflation, sales earnings have lowered market forecasts.', 'The short-term financial markets were frozen due to the coronavirus outbreak, which put the securities industry in a liquidity crisis.', 'Although monetary easing policy can be implemented, policy uncertainty cannot be ignored and the basic physical parameters leading to the stock index or the unchanged semiconductor export return must be pre-exposed, so that trendy growth can be seen as rising.', 'As the interbank movement of financial actors became easier, the pressure on new services increased.', 'This is the first time in six years since 2013 that donations have been reduced to a lower tax.']\n"
     ]
    },
    {
     "name": "stderr",
     "output_type": "stream",
     "text": [
      " 11%|█         | 7/63 [01:00<08:11,  8.77s/it]"
     ]
    },
    {
     "name": "stdout",
     "output_type": "stream",
     "text": [
      "['Financial officials said that \"Fintech companies are now able to provide services at affordable prices without relying on banking\".', 'Generally, real estate prices are high in the region, and the number of properties of corporations that pay taxes is high.', 'In the banking sector, it is predicted that the interest rate on regular deposits will fall to 1.2% or 1.1% per year.', 'The Director of Finance noted that \"there are five years left until the government, and in the case of Mr. A, who has delayed the retirement period, a comprehensive financial system is needed\".', 'On the other hand, the rental business favored by the owners of the property has fallen into disrepair due to increased government regulation.', 'Industry reports show that the first quarter of the financial sector has slowed down overall.', 'Also, the impact of the coronavirus has reduced trading volume in many areas, such as leisure, fashion and travel.', 'Binance announced two days ago that the share of Azuibi Investors and Special Operators fluctuated from 10.22% to 8.84%.', \"The government's decision to reduce the LCR by the end of September seems to have reduced the burden of adjusting the liquidity regulations.\", 'The director of the Economic and Economic Development Committee of the Anlun Statistical Office said that \"the low oil prices of the year have had a large effect on the ground\", and \"if reflected in the fluctuations in the water due to the spread of the novel coronavirus, the rate of increase in the price of the year will be about the first half of 1%\".', 'The first quarter of the U.S. market was the biggest hit, with M&A volume up 51% year-over-year to $253 billion.', 'Our investor share sales are expected to generate at least $40 billion in cash and save $1633 billion in deficits, except that the forecast is that the bank has been rambling to set up a $30 billion bond issue.', 'The amount of retirement pension varies depending on the type of item the subscriber specified at the time of subscription or deposit.', 'The IB men, including Kim Jin-yeong, vice president of the highest paid investment banking group, have been named to the list of top-earning investors.', 'One securities executive criticised the \"slow trend in the financial markets as institutions are not willing to invest\", saying that \"other institutions are not allowed to enter, and are disrupting the market, unlike the initial trend\".', '\"The initial re-publication fund expectations were high after the time-policy use was converted into a public utility, but the ongoing mismanagement of the mutual fund has cut off customer inquiries from banks and other vendors\", the asset management business official said.']\n"
     ]
    },
    {
     "name": "stderr",
     "output_type": "stream",
     "text": [
      " 13%|█▎        | 8/63 [01:07<07:39,  8.35s/it]"
     ]
    },
    {
     "name": "stdout",
     "output_type": "stream",
     "text": [
      "['In particular, the mixed-rate mortgage market, a type of fixed-rate goods, has been growing at an annual rate of 2.4% and is now being targeted by existing lenders.', 'The game announced on 20th that the list of 2884 high-value and custom recipients who have not paid more than 10 million taxes for a year has been published on the website and the gamebook, WTAX.', 'Interest rates were 0.54% higher than fixed-rate loans in the past 18 days, but the difference was even higher today, at 0.61%.', 'If we overlap with the low growth rate, we can see a deflation that is more frightening than inflation, but the news that supplies are falling immediately for consumers is good news.', 'The head of the Executive Planning Directorate of the Park Park Development Authority said that \"the downtime of the homepage server is unusual\" and \"it can reflect the high interest in the disaster base income of the people of the Park who are in crisis due to coronavirus\".', \"The surface reason is investment for nationalisation of parts, materials and equipment, but the goal set by the Pyongyang government is to overcome Japan's export regulation.\", 'The incident was the result of a total dispute between the central bank, the central bank and the securities company, including a failure of internal control, incomplete sales.', 'The analysis is that banks have become the main selling point against the backdrop of increased entry of ordinary investors.', \"He also gave a simple answer to questions about the public's opinion on the investment of the common fund, using the example of the common fund invested by the candidate of the Ministry of Justice of his country.\", 'The US-China trade dispute escalated, and the decline of the rate of inflation continued to rise after seven trading days.', \"This is about three times the average for Robert Allan Cohen's private equity firm, which received $275 million in a year's return.\", 'Global semiconductor market researcher IC Insights reported a day earlier that the volume of semiconductor shipments this year would increase by 7% compared to the previous year to 1.363 billion.', \"But last year, as the U.S.-China trade dispute continued, the market's investment focus was weakened by debt to Japan and trade auctions, which drove the trading volume down to under $10 trillion and firmly hampered the growth trend.\", 'Eight of the top 10 cryptocurrencies are not up or down.', 'In the low volatility, rather than in the profitability, investment funds are constantly attracting.', 'Card settlement via issuer must be done using an IC card as a collective, and if IC card payment fails, magnetic MS card payment is also possible.']\n"
     ]
    },
    {
     "name": "stderr",
     "output_type": "stream",
     "text": [
      " 14%|█▍        | 9/63 [01:18<08:08,  9.05s/it]"
     ]
    },
    {
     "name": "stdout",
     "output_type": "stream",
     "text": [
      "['He explained, \"If you fall into the sweetness of habit, you can\\'t move into a bigger world, you can just eat the little world you live in and eventually you\\'re going to decline\".', 'The unrecorded upheaval and the recent unresolved safety and environmental issues are representative.', 'The big-box industry has enjoyed a boom over the past 20 years when this representative has been involved in Imart.', \"And because a house in Seoul is worth about $900 million, those of you who have a home in Seoul probably don't like moving around.\", 'The Choiyantaok Commercial Information Bureau noted that \"the most recent red-wall business area nearby is the entry of coffee specialist shop \\'Bluboot\\' and the expectations are rising as rents are rising\", and \"if the rents are higher, there is a risk that the content of the market will weaken and become a dead market that can be crossed\".', 'When the new tax rate regulation comes into effect, household income that rises in weight will need more deposits instead of being reduced.', 'KERI, the state research agency for electrical engineering, is charging a four-month test fee from May 1 to August 31 to support the domestic electrical industry in the country, which is experiencing difficulties due to the coronavirus.', 'This is proof that a low-risk investment product like DLS is not suitable for a beginner investor.', 'The government last year adjusted the limit on the minimum wage levy to 35 to 60% of revenue from 40 to 65%, as the difficulties for self-employed people grew.', \"And when the concepts presented in the figures are applied to real investments, they're looking for answers about how they can make extra returns or reduce investment risk.\", 'The meeting was attended by Kim Gying-nam, Vice President of Samsung Electronics, Chang-yong, Chang-Hyong, and Chang-hoon, Samsung Electronics Chairman and Samsung Display Chairman.', 'KT is the leading insurer in the insurance industry and is engaged in the sale of handheld and insurance products.', 'Last year, both household and nonprofit assets and debts decreased in both increments.', 'Bank deposits, which are 0% interest rates, are steadily increasing in the low-interest rate regime.', 'If the homeowner has multiple ASA cards, in the Netherlands, disaster relief funds can be used regardless of the card type.', 'Accordingly, the Bank of India has requested a dispute settlement and the 210 cases of losses confirmed, the remaining 204 victims not included in the six types of damages, negotiated with the bank and the individual compensation rate is determined at the level of 20 to 80%.']\n"
     ]
    },
    {
     "name": "stderr",
     "output_type": "stream",
     "text": [
      " 16%|█▌        | 10/63 [01:27<07:51,  8.90s/it]"
     ]
    },
    {
     "name": "stdout",
     "output_type": "stream",
     "text": [
      "['In this case, KCGI, peninsula construction, etc. can be casting boats.', \"At the time, La's president had sent patients to Japan for stem cell surgery because the country's laws did not allow it, but this was reported by the Japanese newspaper Mainichi and caused a social uproar.\", 'South Anglia Vivian was founded in 1957 and launched the brand Vivian, but recently reported that special agents such as South Sengou South Anglia Vivian President are promoting the sale of shares due to the deterioration in profitability.', 'The nature of the two associations varies, and it seems that there will be unprecedented pain and conflict in the process of forming the integration association.', 'In December 2017, Ms. A saw that Ms. B, who is a gift and option specialist, was recruiting investors on the Internet and if she signed up for membership, she would introduce the gift exchange account tenant.', '\"It is also thought that this phenomenon risks the system\", said Yoon-tung, \"and ultimately, financial firms must create high-yield products and absorb liquidity, as financial investment is not doing well and banks are also reluctant to do so, causing incomplete sales problems\".', 'Meritz expects the entire design team to surpass 20,000 this year.', 'The bride and groom must prepare in advance for the next child.', 'Our financial stock will be able to recover 100% of the public funds if it is worth Rs.18,800, but even if the stock is slightly lower than the current level, it is intended to sell as planned.', 'He also urged that \"we break the existing framework and boundaries and work together to overcome the current crisis as an opportunity for the future\".', 'The project is a collaboration between the Seoul City and the Basko District Headquarters, which supports 60% of the purchase costs of agricultural machinery by the city and Basko respectively.', 'The amendment allows insurance developers to access road information collected from the Kaistori on vehicle insurance.', '\"We need to maintain a conservative view of the uncertainty in the external environment, such as the volatile interest rate, the concerns about the U.S.-China trade dispute, the one-day trade gap\", he said.', 'The senior researcher of the study, who is also the head of the Real Estate 114 Research Institute, said: \"The price of apartments in Seoul has shifted upwards, but the price of the aftermarket is not standardized and can be interpreted as a trend shift\".', 'The share of investment grade issuance increased by 20% annually after the financial crisis and by the end of 2019 the remaining share will be 44%.', 'In the Kossdack market, there is a large volume of mezzanine bonds that attract relatively easy investors, as compared to the issuers of equity securities.']\n"
     ]
    },
    {
     "name": "stderr",
     "output_type": "stream",
     "text": [
      " 17%|█▋        | 11/63 [01:34<07:11,  8.30s/it]"
     ]
    },
    {
     "name": "stdout",
     "output_type": "stream",
     "text": [
      "['The judge also expressed the view that the investigation was not based on the premise of the investigating body that the former owner had a previously manipulated department and that ASAD was not a processing company for manipulation.', 'The two banks sold DLF last year, which accounted for 85 percent of the total financial sector, at $4.567 billion.', 'Companies that have established themselves in their respective business sectors, including PayPal, Visa, MasterCard, Uber, eBay, and others, have announced their participation in the Libra Association.', 'The Industrial Bank and the Export-Import Bank agreed to provide a trillion and two trillion dollars in aid to Korean Airlines, which has been hit hard by the coronavirus.', 'Although the practice of simple fraud has been increasing in recent years, the methods of operation are being intelligently and upgraded, with the help of accounting firms and corporate valuers.', 'Companies with low credit ratings or sensitive disclosures are relying on relatively high interest rates and are flooding into the stock market.', \"The report also highlights the fact that in matters such as 'unpredictable corruption of entrepreneurship', which are difficult to judge objectively, the public funds can be involved in the management of the fund and can be used to influence political interests.\", 'The focus is on the draft digital tax, which is scheduled for April 30.', 'The director said that \"the company has set up a new coronavirus and special consultation advisory window at 23 sales points to provide rapid support to disaster victims\", and \"implements a policy of mitigation of warranty and investigation standards for emergency support\".', 'But the Chinese government suddenly delayed the centennial flight permit and announced that it would only approve first-generation operations.', 'The GDP per capita (GDP) ratio, which represents the difference between potential growth rates and actual growth rates, fell to a minus in 2013, and the gap is widening.', 'The market is concerned about how long the delayed payment will be ahead of sales.', 'Once, Hanjinkal shares recorded 96,000 yuan per week, and recently, for various reasons, such as the coronavirus outbreak, the shares fell to 50,000 yuan per week and went on sale.', 'Insurers are likely to increase the issuance of capital securities such as secondary debt or new equity securities to counter the deterioration in financial health due to interest rate cuts, which could worsen future issues.', 'But it stresses the need for strong self-empowerment.', 'However, the number of early repayment claims by investors is increasing as stocks fall sharply this year and the growth trend is expected to remain steady.']\n"
     ]
    },
    {
     "name": "stderr",
     "output_type": "stream",
     "text": [
      " 19%|█▉        | 12/63 [01:42<07:03,  8.31s/it]"
     ]
    },
    {
     "name": "stdout",
     "output_type": "stream",
     "text": [
      "[\"If credit scandals are widened, the company's corporate language (CP) market security policy or the company debt purchase program (CSPP) implemented by the European Central Bank (ECB) is also discussed.\", 'Initially, the former president of Korea Colma Holdings, who recently edited a conservative YouTube video, forced his former employees to watch it, and became a target of unrest.', 'The interpretation of the DNF case was that \"the opinion of the finance minister and the finance minister has again diverged\".', \"The president didn't show up, and the top 10 didn't attend.\", \"The Bank also enacted a temporary measure to limit the voting rights of the bank's major shareholders, and the current banking law, which has been revised several times, allows industrial capital to not hold more than 4% of the total issued shares of the bank's voting rights.\", 'The economic leaders decided to implement additional measures regarding the auctioning of stock markets, although the overheating category is still relatively uncertain.', 'The 24-day Cosby index ended the chapter at 1609.97, down 127.51 points from the previous trading day.', 'The company, which completed the first half of sales, also recorded a 42% cumulative profit rate, including earnings from the sale of Eastman Center Point and dividend income.', 'The strategic partnership between KB Finance and Stifel was led by the KB Finance Chairman Yoon Sug.', 'The issuance procedure is easier than the existing certificate and has the advantage of extending its validity by two years.', 'If banks accept dispute settlement for four of the Kico victim companies, a bank-based consortium will be promoted to address further dispute-autonomous settlement issues.', 'The top coupon in the e-commerce industry is being embarrassed by the Japanese unrest.', 'The entire service sector is a support project, while manufacturing and other industries will be selected by the regional headquarters in light of the affected situation in the region.', 'Han explained that \"the increase in vehicle sales increased the car by eight points, but the electronic, imaging, communication and electrical equipment fell by 11 points and 8 points respectively\".', 'The range of fintech companies that financial firms can invest in is expanding.', 'The S&P 500 may lose cash depending on the price of the futures and exchange rate fluctuations.']\n"
     ]
    },
    {
     "name": "stderr",
     "output_type": "stream",
     "text": [
      " 21%|██        | 13/63 [01:50<06:58,  8.38s/it]"
     ]
    },
    {
     "name": "stdout",
     "output_type": "stream",
     "text": [
      "[\"On the same day, Exor's reinsurance partner, Cobe, was forced to withdraw from the deal.\", 'The credit rating of the credit rating of 1 to 3 is limited to 53 billion USD for small enterprises.', 'The prosecutor\\'s office is calling the key suspects in the Rame incident, which has been revealed as a \"financial incident of the massacre\".', 'If the group representative recommends one of them, the formal nomination process will be held at the March general meeting.', 'In 2016, PPC Bank acquired the Bank of Korea as a subsidiary and successfully localized, recording double-digit growth every year.', 'KOPRA announced on 27 that the share of SK Discoveries, a special operator, varied from 8.51% to 0.0%.', \"The decline in the same period was higher than the US Standard & Poor's S&P 500 index and the Japanese Nike 225 index.\", 'Automatic logins are available and small amounts of money can be easily transferred without a credential.', \"The subsidiary president's side involves a minority shareholder to reduce the dividend rate gap.\", 'So far, 36 innovative finance services have been launched, and 66 will be available in the first half of the year.', 'On the other hand, as more people find that they want to fix or improve their homes, as the time goes on, more people will find that they want to buy interior when the crisis is over.', 'At the time, Samsung said that the first to third quarter of 2017 accounting reflected the old IFRS 1039 standard, and that the fourth quarter saw a difference in the introduction of IFRS 1109 from the annual business report.', 'The factory\\'s team leader said that \"a stable real estate investment strategy is a strategic one for the essential asset owners and media owners\", and advised that \"even if the stock market moves slowly, a good opportunity will come if you talk about a strategy that is appropriate\".', 'Furthermore, the group has formed a quantitative partnership between the Aeg Group-Stonebridge Consortium, HDC Modern Industrial Development-Future Setting Consortium, and the company has also stressed its competitiveness as a subsidiary.', '\"If the government accuses companies that have invested in Fintech, the authorities will actively defend them\".', 'To such demands of the insurance industry, the Commissioner replied: \"The regulatory improvements mentioned by the insurance industry for strengthening competitiveness, including several positive aspects, will be reviewed as flexibly as possible, taking into account the stability of the financial market and consumer protection aspects\".']\n"
     ]
    },
    {
     "name": "stderr",
     "output_type": "stream",
     "text": [
      " 22%|██▏       | 14/63 [01:58<06:39,  8.15s/it]"
     ]
    },
    {
     "name": "stdout",
     "output_type": "stream",
     "text": [
      "['A securities business official said \"the private investor\\'s suspicion has increased as the number of exemptions to auctions is increasing significantly\", adding that \"the government needs to make the exemption transaction balance transparent across all auctions\".', 'The online application for the fifth division, which distributed the recruitment staff on a monthly basis, and the last week, are being analyzed as having worked.', 'The total amount of these homes was $5124 billion, of which only 31% was own money, and the remaining 69% was debt such as loans and mortgages from financial institutions.', 'Aramco shares will eventually be absorbed into the MSCI emerging market index, and international investors, as well as international indirect investment funds investing in the index, will have to buy Aramco shares.', 'The highest corporate dividend rate, which represents the percentage of shareholders per share, was 16.9%, in the Eastern Hemisphere.', 'The most important reason is that the first of February, or winter, has a very warm effect.', 'The date for the adoption of witnesses shall be extended to the next date.', \"The sheriff's situation in the van (VAN) operator operating ATMs, which are booming in the wake of the banks' shortage of cash-in-out ATMs and the rise in the number of convenience stations and metro stations, has been critical.\", 'The current ten-year term of the CEO is up to ten places.', 'The court also observed that the decision to impose a penalty on the CEO, which has been claimed by the financial sector, has no legal basis.', 'Social commerce company Wimef announced on 17th that it will host a double special event.', 'However, the industry has also been criticized for trying to overestimate the cost of insurance in the strategic independent retail chain GA.', \"With the concern of a slowdown in the economy, the company's performance also deteriorated, and the stock market fell into a state of recession.\", 'However, the possibility of a reduction in the capacity of interest rate policy is needed as the future situation unfolds and the relevant research is underway.', \"Some of these observation is that the national funds will be subject to full-scale stockholders' activities ahead of the March general meeting.\", 'However, a court representative who has suspended card use and agreed to a substitution may be required to make a substitution until the time of the payment of the deferred payment.']\n"
     ]
    },
    {
     "name": "stderr",
     "output_type": "stream",
     "text": [
      " 24%|██▍       | 15/63 [02:05<06:17,  7.87s/it]"
     ]
    },
    {
     "name": "stdout",
     "output_type": "stream",
     "text": [
      "['The entire aviation industry is in high danger following the novel coronavirus infection.', 'But New Unemployment Insurance is expected to reduce premiums by 1% next year.', 'Above all, the external requirements for the market do not require financial requirements such as sales and net profits.', \"The state legislator explained that the candidate's father died in 2013, when his wealth was only 21 million dollars and he had debts of about 5 billion dollars, including 4250 million dollars in hypothetical debt and 750 million dollars in state taxes.\", 'If you receive disaster relief from the local authority, you can cut the amount.', 'The amount awarded by Minchei when he acquired the apartment shares is calculated to be $391 million and will be taxed at approximately $62 million.', 'At the end of the year, the shareholder base will be strengthened, so investors are turning a blind eye to CFDs.', 'The group won the vote with the three unions, including its former vice president of aviation and KCGI-Band Construction.', 'The total area of the district was reduced by -2.24% compared to 135m2 while the total area of 40-60m2 fell by 3.85%.', \"At the request of the IMF, the country's capital markets have been opened up and foreign mutual funds have made a huge impact.\", 'The system that can maintain insurance without paying insurance premiums is representative of insurance premiums, deductible premiums, and automatic deductible premiums.', \"The President of the Republic of Korea renewed the nomination for the Minister of Justice candidate on 9 March, while the prosecutor's office is seeking a bond against the representatives of the samofund operator, which the family of the deputy minister has invested in.\", 'The Special Four of the Central Criminal Investigation Service of Seoul said that the Deputy Director of the YEBO, Hanmo, was detained on 10 December for taking bribes under the Criminal Penal Code.', 'The issue of paper certificates has been a source of unnecessary resources and concerns about consumer privacy leaks have been raised in the market.', 'He also stressed that \"the time is not long to save our companies, which are suffering from extreme financial scrutiny, as well as small and medium-sized enterprises, self-employed people who have fallen into a zero-emission situation\".', 'Group food and food distribution sectors account for 61.7% of revenue and 38.3% of revenue respectively.']\n"
     ]
    },
    {
     "name": "stderr",
     "output_type": "stream",
     "text": [
      " 25%|██▌       | 16/63 [02:12<05:51,  7.49s/it]"
     ]
    },
    {
     "name": "stdout",
     "output_type": "stream",
     "text": [
      "['The gross sales of the company increased in December to avoid cases of taxation due to the tax on dividend income, as well as the gross sales of the company in January.', 'The analysis suggests that the top-tier savings banks are heading to \"home-breaking\" as the coronavirus outbreak continues to prolong the demand for loans.', 'Even after the announcement of the implementation of the tax exemption for private taxis, the price of Seoul real estate continued to rise.', 'The trend of debt finance decline due to increased demand continues for a long time and the popularity of investment products with a slightly higher return on investment is rising among security assets.', 'I see the possibilities, the degree of the car, but the direction is going together.', 'However, the three companies listed on the QSX, including Vinia Chadim, converted to the black market, while the three companies listed on the Anizen, which were short-term, were deemed to have a small advantage over the overall corporate average.', 'Aitech announced on 13th that the share of special supervisors such as Park Rang-e-Teng had fluctuated from 38.49% to 37.24%.', 'A homeless worker may receive a mid-term pension if he or she is required to purchase a home in his or her own name or to pay a pre-tax security for residential purposes.', 'One financial authority official said, \"If all other financial groups are left out of a \\'voluntary donation\\' situation, it\\'s a flashpoint, and it\\'s mostly decided at a similar level\".', \"It's not easy to move dynamically in a market that's not big.\", 'CMA is a short-term cash flow instrument that is used by securities firms to receive customer funds and return the profits to investors by investing in corporate debt (CP) or government bonds (CD).', 'Initially, the scheme was implemented in a way that exposed the opaque annual salary system, such as corporate honor, and led to responsible management, but it is likely that the company is providing victims.', 'Dram exports, which are estimated to account for half of satellite electron semiconductor sales, recorded a two-month consecutive boom last month.', 'Interest-only interest-only rights are rights that borrowers can ask financial companies to lower their loan amount due to improved credit conditions such as employment, promotion.', 'We need to find alternatives to increase our comprehensive insurance coverage after the government and the delivery business.', \"Because there's no land to supply new offices.\"]\n"
     ]
    },
    {
     "name": "stderr",
     "output_type": "stream",
     "text": [
      " 27%|██▋       | 17/63 [02:18<05:24,  7.06s/it]"
     ]
    },
    {
     "name": "stdout",
     "output_type": "stream",
     "text": [
      "['The case of the recent acquisition of Cowie, which was re-exposed after three months, could be repeated.', \"South Anglia, which previously owned the women's lingerie brand Vivian, recently selected a sales manager and entered into a procedure for the sale of the business unit.\", 'If the procedure for the withdrawal of pre-tax refunds is not done before the measure, the purpose of the withdrawal will not be proven.', \"If banks sold it without knowing it, lack of expertise, knowing it, it couldn't be moral hacking.\", 'First, when I agreed to the terms, I found out the number of the checking account I had.', 'The Singapore-based fund consortium has negotiated the settlement price much more, and even the court-set minimum bidder has offered a price that is far above the level of the sale price, but has failed to deliver the final payment.', 'The loan amount was approximately $2.0 million, which was extended for a maximum of one year.', 'In South Korea, the export restrictions have the greatest impact on growth, so it is necessary to diversify export lines and promote export businesses.', 'Not everyone voted in favor of Joe.', '\"The fact that national banks are actually \\'ownerless companies\\' should not be used to pressure borrowing as government agencies do\", the financial authority said.', 'Because of the strong lending regulations, medium-sized loans are restricted.', \"The Bank of Korea's Financial Services Commission has lowered the benchmark rate to the lowest possible level due to concerns about the recession, but debt interest rates are rising sharply.\", \"The agency is looking for the essence of the crisis facing the Korean economy in the 'excessive monopoly of our social wealth and assets'.\", 'This has led to shareholder complaints and tax problems related to the unpaid dividends.', 'The receiving rate subpoena is likely to be shortly after the end of the general meeting season for financial giants.', 'After the loss of raw materials, the investment demand for the dunhumbung dunhumbung project rose from 1 to 4 million yuan.']\n"
     ]
    },
    {
     "name": "stderr",
     "output_type": "stream",
     "text": [
      " 29%|██▊       | 18/63 [02:26<05:37,  7.50s/it]"
     ]
    },
    {
     "name": "stdout",
     "output_type": "stream",
     "text": [
      "['The WONIMAL money sold by our bank saves 2.40% interest on a one-year subscription period.', \"So what happened in the other bank, I'm trying to figure out what things you should be careful about when you sign up for a financial product in the bank.\", 'KB Finance said that \"the reforms are being made as retirement pension customers move from \\'company\\' to \\'individual\\' and the need to restructure the business system is constantly being raised as the importance of customer rate management increases\".', 'Through networking, global companies and Korean companies are also free to form market pioneering partnerships.', \"The Saudi government has estimated that Aramco's IPO is worth more than two trillion dollars, more than double Apple's, but experts estimate it to be between $160 billion and $180 billion.\", 'The index has been steadily falling since the second half of 2017 and has seen a rise in recovery expectations since the end of last year.', 'Common property insurance is the term for the risk of interest rate fluctuations that are jointly and severally liable to the insurer and reinsurer.', 'In addition, other securities firms took over the role of the chairman, but the listings of companies that were rated as difficult deals such as Rapas and Korean Union Pharmaceuticals, which had been heavily involved in the market, also went well.', 'The average annual salary for the taxpayer fell 0.77 percent and 0.34 percent respectively from a year ago.', 'The newspaper, which is owned by the Korean Football Association and its affiliates, has also made it difficult to enter the press room of the association.', 'The most recent report by the Korean Investment Bank said that \"the negative impact on the Shanghai market during the Saas was a month\", and that \"from mid-April to mid-May, when the number of infections spread, the Shanghai Compound Index fell by about 9% and the market calmed down after mid-May\".', 'According to the age group, the median household income for long-term care was the highest among people in their 20s, 30s, and 40s.', 'Accordingly, it is predicted that this additional benchmark rate may be ahead of the time of the fall.', \"The profit-sharing strategy suggests that when a state's shares of a company recover, the state will take an increased profit.\", 'It is also a disgrace to the banks that 11 banks can allocate about $200 billion to 147 companies that have not filed a lawsuit or a dispute settlement.', 'The bond security fund is responsible for buying corporate debt and corporate debt (CP) of a credit rating that is difficult to handle on the market.']\n"
     ]
    },
    {
     "name": "stderr",
     "output_type": "stream",
     "text": [
      " 30%|███       | 19/63 [02:57<10:28, 14.29s/it]"
     ]
    },
    {
     "name": "stdout",
     "output_type": "stream",
     "text": [
      "['The meeting of the Deputy Director of Finance, Deputy Director of the Ministry of Affairs, Deputy Director of Finance, Deputy Director of Finance, Deputy Director of Finance, Deputy Director of Finance and Deputy Director of Finance will be held on the first day of the month, one week before the meeting.', 'The increase in big business loans this month is due to the increase in the actual use of short-term loans.', 'It was possible because customers had to go through additional authentication procedures like ARS certification or smart e-certification when they entered a temporary password and registered a password.', 'If the court returns the deduction only for an unavoidable double-deck accident, it shall bear the deduction only for general and accidental cases where the court does not require the deduction.', 'Both airlines are expected to have sales losses of up to 100 billion yuan.', 'The Guangdong Provincial Bank of Korea attended the 2019 Guangdong Province Small and Medium-sized Business Finance Council by more than 30 representatives of the Ministry of Finance and the Ministry of Finance of the Ministry of Finance of the Ministry of Finance of the Ministry of Finance of the Ministry of Finance of the Ministry of Finance of the Ministry of Finance of the Ministry of Finance of the Ministry of Finance of the Ministry of the Ministry of Finance of the Ministry of Finance of the Ministry of the Ministry of Finance of the Ministry of the Ministry of Finance of the Ministry of the Ministry of Finance of the Ministry of the Ministry of Finance of the Ministry of the Ministry of Finance of the Ministry of the Ministry of Finance of the Ministry of the Ministry of Finance of the Ministry of the Ministry of Finance of the Ministry of the Ministry of Finance of the Ministry of Finance of the Ministry of the Ministry of Finance of the Ministry of Finance of the Ministry of Finance of the Ministry of Finance of the', 'FT said it would be difficult to generate additional interest rates in the coming year, saying \"indices such as private spending, employment growth are mitigating the external uncertainty of the US economy\".', 'Accordingly, if the existing loan maturity of the small and medium-sized enterprises belonging to these industries is reached, the term is extended to a maximum of one year without a refund of the principal, and the dividend is deferred to a maximum of six months.', \"The increase was only doubled from last year's 13.32%.\", \"In 2015, the company attempted to liquidate the financing through an IPO, but the market's expectations were low and it failed.\", 'The survey was conducted in 18 traditional markets and 27 large distributors in 19 regions of the country on 13 items that aT uses as Kim Jong-il materials.', 'The Shareholders\\' Association announced on 27th that it has presented the \"Top 10 challenges for the marketing of the business activities and profit generation\" containing the same content to the government.', 'The race also saw a 0.28% increase in the pace of growth over the previous week.', 'In the government of President Pyongyang, there was a lot of mitigation, but in the literate government, there was a lot of regulatory tightening.', 'The incumbent will begin his term on 31 October, when the general meeting of shareholders will decide on the candidate for governor.', 'The president of the Silent New Finance Group, who was tried for more than a year for committing illegal recruitment during his tenure as head of the Xinhan Bank, was convicted in a first trial and sentenced to probation.']\n"
     ]
    },
    {
     "name": "stderr",
     "output_type": "stream",
     "text": [
      " 32%|███▏      | 20/63 [03:05<08:56, 12.47s/it]"
     ]
    },
    {
     "name": "stdout",
     "output_type": "stream",
     "text": [
      "['While there is a growing interest in whether the US hedge fund Citadel will be the first example of a government-backed debt relief deal, the decline in the stock exchange tax, which began to be implemented gradually this year, is again being noticed.', \"But it's important to keep the 'oaks' where not only the dividend yields but the actual improvements are expected.\", 'The Credit Recovery Committee is engaged in various social contribution activities that promote community-wide participation in the community, along with the credit recovery work of vulnerable communities.', 'The vice president of recycling went to the Samsung Display Assan factory the day before and said, \"It\\'s hard to give up the large display business because LCD business is difficult right now\".', 'The National Economic Association said that after the 20th Bug Din, 30 Vietnamese economic advisers and Korean finance officials, including the Vietnamese Minister of Economy, met and held a consultation to discuss measures to strengthen economic cooperation between the two countries.', \"Investors are entering the'siltan' market, aiming to sell off their shares in the new coronavirus outbreak.\", 'In the industry, there are claims that measures like the one in the downside should be taken, but more.', 'Han said the growth in consumer spending was influenced by trade expectations, rising prices, and domestic and foreign game support policies.', 'He said, \"It\\'s not just driving out the uncondition and raising rent that makes money\". He said, \"When we go in, where we have trouble not paying rent, we often put ringers and think about sales activation strategies, and sales go well\".', 'The percentage of foreigners buying apartments in Seoul reached an all-time high in December.', 'This, together with research and Mac, suggests that domestic manufacturing jobs are cut off by time-lapse when global economic crises occur.', 'Last year, Lottelets, which led the Lutz heat wave as a large market, announced plans to clean up 200 stores.', 'The term of office of the Director of the Korean Exchange in the state of Jiangsu ends in November and the term of office of the Chairman of the Movagal Nag will end in September.', 'Initially, the housing finance company had been trying to make a simple verification procedure at the bank after completing the examination for the selection of the recipients.', 'Meanwhile, the spread of coronavirus has affected exports in more than 100 countries and regions around the world, with restrictions on entry of Koreans.', \"It's an unusual assessment that financial institutions are paying attention to investors in certain industries.\"]\n"
     ]
    },
    {
     "name": "stderr",
     "output_type": "stream",
     "text": [
      " 33%|███▎      | 21/63 [03:16<08:23, 11.98s/it]"
     ]
    },
    {
     "name": "stdout",
     "output_type": "stream",
     "text": [
      "['This is associated with the fact that solar investments have long-term contracts, stable returns, and other characteristics.', \"If the recession-related slowdown in revenues and demand drives a surge in the real estate rental market, Ritz's 'income gains' will fall.\", 'If the money supply is too slow, there is a lack of exchange rate and inflation occurs if it is too fast.', 'The Gold Council last month decided to keep the benchmark rate at current levels, assuming that the coronavirus will peak in mid-March and calm down.', 'The delay is due to the fact that the deceased president was severely punished for the loss of the DLF.', 'Interest rates on long-term debt are generally higher than on short-term debt due to the uncertainty of debt repayment.', 'The case was settled when the Justice Committee declared the vice president identical on 15 March.', \"It's the first in the industry to be built in a way that is optimized for smartphones so that if you have a smartphone, you can easily find terms anywhere, anytime, and customers can easily understand car insurance.\", 'LG Electronics is scheduled to report on the actual data on the 7th and Samsung Electronics on the 8th, which means that domestic companies may be able to predict the recovery of the third quarter.', 'YouTube announced on 27th that the share of Kim Jin-ta and special correspondents varied from 20.42% to 19.19%.', 'The government announced the \"home price\" and the \"mining tax distribution sanctions\" application area.', \"The building's height is limited to 45 meters, which gives a responsive feel, and the buildings of the same height that are being used by large securities firms are mostly buildings built before the 2000s.\", 'Non-profit assets, non-commercial real estate, are explained as having a negative impact on cash flow due to the stability of funds as their holdings increase.', \"Because if you don't raise the money, you could be forced to shut down or sell your business.\", \"It's particularly worrying that the prospects for real estate growth in the fourth quarter are growing rapidly, and that this prospect is actually reflected in the market.\", 'Meanwhile, car insurance reached $15.83 billion, down 1.4 percent from a year earlier, as sales of discounted products increased.']\n"
     ]
    },
    {
     "name": "stderr",
     "output_type": "stream",
     "text": [
      " 35%|███▍      | 22/63 [03:27<07:59, 11.70s/it]"
     ]
    },
    {
     "name": "stdout",
     "output_type": "stream",
     "text": [
      "[\"Some experts say it's wise to bite or wait longer.\", 'Since April 2017, the Capital Markets Act has been revised and in November of the same year, the Korean Investment Bank has approved its first issuance of the business.', \"Softbank's venture fund, Vision Fund, has been reduced by 10 trillion in loans due to investment failure.\", \"There are no statistics, but it's hard to find frequent transactions.\", \"The country's debt-to-GDP ratio is rising, and the debt-to-GDP ratio is rising.\", \"When the shares of the theme stock are up, they are listed as 'investment watch→economy→risk' and are listed as market watch.\", 'The Deputy Director of the Kim Jong-un Administration of Finance announced the latest inspection and supplementary measures of the real estate market, which will identify the areas of concern for home prices and security concerns in relation to the low price of private taxis.', 'The house rate fell 0.1% in detail, returning to a minus after 13 years since March 2006.', 'Converz announced on Friday that interest rates for special regulators such as Imagine Reserve Bank and others have fluctuated from 0% to 0.00%.', 'It also has the advantage of making companies that are difficult to manage knighted and giving momentum to growth-stagnant companies.', 'Yuang Seong Chief Financial Officer is celebrating the 11th Asian Fund Awards ceremony held at the Central Press Centre in Seoul on 13th.', 'The city of Iritzkorreb, where the capital was sold at a rate of decline, is expected to have a city dividend rate of more than 6%.', 'The fund was primarily operated by the Lime assets, which were alternative investment funds such as real estate, special assets, and mixed assets, which were difficult to liquidate and required long-term investment.', 'From this year, minors under 18 and unmarried generations under 30 are exempt from the individual resident tax.', 'The surge of supervolume media is expected to have an inevitable impact on major deals, including KDB life.', 'KDB Industrial Bank and KCBS have refused the recommendation of the financial director.']\n"
     ]
    },
    {
     "name": "stderr",
     "output_type": "stream",
     "text": [
      " 37%|███▋      | 23/63 [03:44<08:54, 13.37s/it]"
     ]
    },
    {
     "name": "stdout",
     "output_type": "stream",
     "text": [
      "['Professor Hajunjung, of the Han Han University\\'s Department of Economics, said that \"the situation is that the Korean economy is very dependent on semiconductors\", and \"the corporate ecosystem needs to be flexible, such as lowering barriers to entry to grow high-value industries such as the medical industry, the service industry\".', '\"We will continue to work to ensure that both countries survive and thrive in a business environment where protectionism is widespread and uncertain globally\", said Chairman Kim.', 'The company said it had \"difficulted to liquidate through a fall in corporate shares and a transition to the Kossdack drug tax since July\".', 'According to the Bank of Korea\\'s \"Resident Foreign Exchange Trends\" report, the resident foreign exchange reserves reached $726.44 billion at the end of September.', 'Samsung securities posted a massive loss in ELS trading, bringing net earnings in the first quarter to $154 billion, up 86.9% year-on-year.', 'The division is represented by academic, legal, consumer organizations, financial institutions, and other professionals, but the financial and financial institutions have a significant influence.', 'The Asia-Pacific region has been the most successful region in terms of regional performance, with 26.16% of the population living in the region.', \"But the government's support for Kim, who needed $20 million, was only up to $10 million.\", 'The New Finance Ministry explained that although the closed-end funds, which are not voluntary transferable among trade finance funds, required a faithful explanation of the investment manual, but due to the lack of explanation, they applied the compensation rate differently.', 'On November 29, the same year, the court ruled that Mitsubishi would award between $125 million and $15 million to victims of torture and other crimes.', 'The New Year\\'s resolution by the two groups of managers with a distribution share of 80 to 90 percent read a \"turn on strategy\" to get out of the crisis and the status quo.', \"The National Tax Agency and the government's joint task force claimed that they had made the purchase, but said that not making a mortgage or writing a lease-related document was in fact close to a gift.\", 'LCCs, which lack assets or collateral loans to sell, are waiting for government support.', 'The company has introduced products that have improved the guarantee conditions for cancer, which were less of a concern to consumers before, or have greatly expanded the guarantee costs of brain and blood vessel diseases in just four days.', \"The KDI researcher from the Guza region's Korean Development Research Institute (KDI) claims that the recent dismantling of the DLS case should be kept in mind so as not to lead to excessive regulation.\", 'The amendment allows housing association members to request a withdrawal of their mortgage within 30 days of the date of the application.']\n"
     ]
    },
    {
     "name": "stderr",
     "output_type": "stream",
     "text": [
      " 38%|███▊      | 24/63 [03:53<07:55, 12.19s/it]"
     ]
    },
    {
     "name": "stdout",
     "output_type": "stream",
     "text": [
      "[\"If the value above the fixed level were maintained, Oxendral's gambling could have been successful, but the market situation deteriorated dramatically due to low prices, which led to a red light in the entire management.\", 'Eight to nine of the 10 papers that molecular biologists have studied on the problem of shenanigans claim that they are not effective.', \"If such suspicions are proven to be true, the deputy is guilty of'suspicion' - a crime under Section 5 of the Special Protection Act.\", 'While some banks agreed to accept the recommendation of the Minister of Finance to pay back the Kico, the CEO of the bank has once again reinstated the consumer protection clause that he has consistently stressed since his inauguration.', '\"We agreed that family members should come together to overcome the crisis, in line with the advice of the Chairman of the Jiaoyang-ho, who has been promoting the world\\'s 10th largest airline group for a long time\", the group said.', 'With the cancellation of the graduation ceremony due to coronavirus, the price of biochemistry fell by 11.8%.', 'The total workforce has increased from 9155 in 2014 to 9513 last year, in contrast to the annual decline in the total number of executives in the financial sector.', 'All subscribed insurance products can be viewed on the BOMAP app and can be charged immediately.', 'The companies that have been promoted to the ranking are cited as the faulty financial structure of Asia and Airports.', 'Financial authorities are changing the regulatory approach to fintech companies that financial companies can source from a positive to a negative one.', 'The strategy is that the first blind fund, which was jointly created with Songshing Investment in 2014, will also accelerate its subsequent investments as it moves ahead of early-year financing.', 'Both are open to sea views and surrounding natural landscapes, and tourism is in high demand.', 'Yun said that \"with the emergence of fintech, the electricity has been created that can transform financial services into more convenient and efficient services\".', 'Buffett\\'s supporters insist that \"without Charlie Munger, there would be no Warren Buffett today\".', 'Samsung Transit is a company that manufactures cassette handbags and other revolving devices, but is an independent subsidiary that has no direct connection to GS.', \"This is why the prospect of the vice president's re-election is likely to emerge as the nomination process progresses faster than expected.\"]\n"
     ]
    },
    {
     "name": "stderr",
     "output_type": "stream",
     "text": [
      " 40%|███▉      | 25/63 [04:08<08:15, 13.03s/it]"
     ]
    },
    {
     "name": "stdout",
     "output_type": "stream",
     "text": [
      "['\"When I meet with the system supply companies, I wanted to say, \\'Let the SMEs innovate more than the exports,\\' and \\'We need to build the system after the business process is organized.\\'\"', \"The large loss problem of the foreign currency derivatives (DLF) is also being considered, but the short term of the bank's CEO is a key issue, focusing on who becomes rather than the 'time' issue.\", 'The Minister of the Ministry of Employment and Labour of the Republic of Kazakhstan also spoke about the phased introduction of the national employment insurance last six days, stating that \"the government is focusing on the capacity at this stage to promote the possibility of subscribing to the employment insurance specialists and artists\".', 'In fact, if you look at the past Seoul apartment prices, you can see clearly the shift in the housing market that would support the 10-year cycle.', 'The Financial Services Authority disclosed on the day of the bankruptcy of Riemann that \"international financial companies have invested or borrowed $720 million in Riemann-related assets as of the end of June\".', 'The lower level of the project is in line with the third phase of the additional budgetary ease of doing business.', 'It is estimated that the attractiveness of US Ritz is even higher, especially in the context of global interest rate declines.', 'In addition, the card issuer is also a measure to block the transfer of the cost of benefits to corporate members to a franchise or to a private customer.', \"Now, it's estimated that the uncontact era has come to the financial-startup cooperation system.\", 'Initially, the government planned to issue a billion dollars in cash, increasing the volume of orders for more than $6 billion by $500 million, and lowering interest rates by 20 to 25 bps than the initial rate.', 'The plan is to implement a full-scale education separately from conservation education for insurance providers with an unfinished sales rate using the e-clean insurance service award indicators.', 'The Commission has decided to save the remaining waste revenue if the annual inflows of fertilisers fall below 82,000 tons, and to pay the remaining energy revenue if 90% guaranteed power supply is not generated.', 'The popularity of the service is due to the fact that it is available in most local businesses except department stores, shops, and supermarkets, where it offers discounts of up to 100,000 people per month.', 'The financial director and the central bank have been criticized for not understanding the nature of the customer password theft.', 'Hanjinkal, a shareholder of Hanjin Group, first served as chairman of the board.', \"The responsibility for incomplete sales should be defined, but there's a lot to think about.\"]\n"
     ]
    },
    {
     "name": "stderr",
     "output_type": "stream",
     "text": [
      " 41%|████▏     | 26/63 [04:22<08:11, 13.29s/it]"
     ]
    },
    {
     "name": "stdout",
     "output_type": "stream",
     "text": [
      "['The data industry and economic development could also give up some of its privacy rights, with 27.4% of respondents saying it was \"unforgivable\" and 66.7%.', 'However, the effect of the anti-dumping measures is limited unless the total export returns to a clear rate of increase.', 'The analysis suggests that the forces of the assistant president, who is fighting with the KCGI, the second shareholder of Hanjinkal, have emerged.', 'The company is expected to reduce staff and reduce its size, and sell some of its major subsidiaries.', \"The city is also expected to reduce water supply by adding apartments to the city's residential area.\", 'Amoreperspic Group announced on 9 March that the percentage of the circumscription and special correspondents varied from 61.95% to 63.47%.', 'In terms of private sector, median household income for long-term care was highest at $1.22 billion, or 47.4% of the total, followed by household income at 35.2%.', 'It was confirmed that the bank has changed the Internet and mobile banking passwords of about 40,000 customers.', '\"Fintech is being seen as a new future market, but it\\'s still rare to see successes at home and abroad\", the insurance industry official explained.', \"The co-operative's funding was not delayed, however difficult the company was.\", \"But there's been a lot of concern over the past 13 days that the AA rating of Liquidity Solutions has been a mid-term forecast.\", \"The Japanese government's decision to exclude Korea from the whitelist is seen as a long-term conflict, and payments will decline even more this month.\", 'The National Card reports that the introduction of the system will reduce the maximum 90% of the annual sales receipts for members that are currently issued more than 2 billion units.', 'The Chinese Chancellor, Kim Jong-un, said that \"the stream of income improvement that lasted until the first quarter has been reversed by the coronavirus\" and \"if we consider economic income only, the five-minute income increase rate will decrease to 3.4% at half-level, so the expansion of the distribution indicator changes should be wary\".', 'The company, which has been showing the movements of the Central Asian countries such as SKGS, is also calling for a ceasefire.', 'One individual investor said, \"There\\'s a lot of talk about whether the stock has recovered significantly from the impact of the coronavirus and gone wrong\", and \"the situation where the single investment plan has been stopped and the transition to a forward-looking tax\".']\n"
     ]
    },
    {
     "name": "stderr",
     "output_type": "stream",
     "text": [
      " 43%|████▎     | 27/63 [04:35<07:54, 13.18s/it]"
     ]
    },
    {
     "name": "stdout",
     "output_type": "stream",
     "text": [
      "['Of these, 460,000 will be able to get a loan on better terms when their credit rating goes above first class and the future loan balance or loan terms are set.', 'The Financial Investment Association announced that it will be trading on April 23 with the newly introduced K-OTC market.', 'Ugyong Chairman and Vice Chairman Isum Jung, who are due to expire this year, succeeded in holding the Senate.', \"In addition, the life insurance company Savings Insurance has not received card payments since May's tender.\", 'The most successful investment-securities researcher said: \"Looking at the current situation, it\\'s hard to believe that next year\\'s game is coming to a close\", adding: \"The trade gap between the two countries has not been completely resolved and issues like the situation in Hong Kong and Brexit have made gold a great attraction as a security asset\".', 'If a criminal case is under investigation or a criminal case is filed against the financial institution, the properties of the financial institution are suspended and the criminal penalty above the fine is imposed, the institution is not recognized as a public entity.', \"It is estimated that the NH Investment Bank's recent or ongoing transaction volume, including the Mansion, Meritsuka, and the Samsung Life Building, is likely to reach the same level as last year, when it reached an all-time high of 11.600 billion.\", 'In addition, 47 billion businessmen were generated in the convenience sector, which Dr. Park analyzed as \"a result of the decline in interim production, and the initial operating costs of Central Kitchen\\'s first operation as a burden factor\".', 'It is a testament to the fact that legal disputes between insurers and consumers have decreased compared to the past.', \"But it's important to note that, like other financial products, interest rates on investment are 15.4 percent.\", 'The president, a journalist, told the press after taking office that \"do not interfere in the acquisition of international companies\", but few people believed it.', 'WSJ previously said AB Inbev had about $10 billion in debt and could raise $10 billion in funding if it succeeds in its Asian business divestment.', 'This month, central banks will also begin to accelerate the credit withdrawal rate trend, as the market rate changes.', 'Theoretically, in a situation like the coronavirus lockdown, the benefits of a Neobank that you can see financial activity without going directly to a sales point could be maximized, but in fact, the growth rate is actually slowing, so this statistic seems to be meaningful.', 'The number of projects that have been launched without a reservational appropriations survey will increase from 23 to 43 next year.', \"The last month's yield of the leverage fund was the largest decline, at -14.47%.\"]\n"
     ]
    },
    {
     "name": "stderr",
     "output_type": "stream",
     "text": [
      " 44%|████▍     | 28/63 [04:44<06:56, 11.91s/it]"
     ]
    },
    {
     "name": "stdout",
     "output_type": "stream",
     "text": [
      "['However, there are many challenges to overcome in order to extend the employment insurance scheme to all employers.', 'The project has been financed by a total of 9 billion euros in interest-bearing loans, and 2 trillion and 100 billion euros in other export-import financing and interest payments.', 'There are reports that investors have suffered huge losses, regardless of the market for stocks or bonded real estate.', 'As a reflection, the corporate returns of central banks have increased over the past three months.', 'After the massive fund re-sale suspension declaration, recent exposure to the fungus has been revealed to the facts and the losses of investors who joined the fund for the use of the Rimaza are expected to increase.', 'Therefore, in order to find the right way to finance each company, a group of experts must have a good understanding of the various institutions and be able to use them in a competitive manner.', \"For example, if you lose your insurance policy, you can go to the insurance company's website and find the terms and conditions.\", 'Our PowerInComfund attracted $170 billion in investment in foreign derivatives from U.S. financial firms, which it regularly pays off to its creditors, but suffered massive losses in 2008 due to subprime mortgage events.', '\"We decided to invest in this event because we thought it would build trust with our customers and grow into a bigger company\", said Mr. Park.', 'It was the best choice for him, who loved math but was interested in society.', 'The five-year bank debt rate, which is the main indicator of household outstanding interest rates, fell 0.06% last month, while the interest rate on the mortgage rate also fell.', 'The former head of KT, who held the main position of media business, became the command tower of KT, and paid broadcasting M&A, cable television acquisition, media business expansion, etc. are also being targeted.', 'In comparison, the wind-effect of homes below 900 million yuan has increased in the Yangtze and Yangtze districts over the past week.', 'A securities industry official said it \"was trying to signal that ACH Solutions could cash out shares immediately after the IPO and support the company\\'s growth in the long term\".', 'Experts point out that as volatility has expanded, it is important to pay attention to investments in financial products related to the dollar.', 'Deputy Chairman of the Yuan Yuan Zhenjun Uehang Brothers said, \"In the future, we will work to create an environment where timely delivery contractors can work safely\".']\n"
     ]
    },
    {
     "name": "stderr",
     "output_type": "stream",
     "text": [
      " 46%|████▌     | 29/63 [04:54<06:23, 11.29s/it]"
     ]
    },
    {
     "name": "stdout",
     "output_type": "stream",
     "text": [
      "['The stock fund has raised $660 million, while the bond company has raised $930 million.', 'The number of TV-based insurance sales is increasing, but the number of actual contracts is decreasing.', 'The company announced on 30 May that the largest shareholder, the holding company, had signed a stock collateral arrangement to facilitate the change in the largest shareholder.', 'The amendment included the fact that workers and managers work together to maintain employment at a steady level as a prerequisite for support.', 'Particularly, capitalizing on the source of intellectual property has the advantage of minimizing the various corporate risks.', 'However, the need for interest rate inflation has increased as the coronavirus wave has become realistic, such as lowering the economic growth rate outlook this year from the current 2.3% to 2.1%.', 'The IPO of Aramco, which has been delayed and has been through several setbacks, has finally opened its formal procedures with the approval of the Saudi government.', 'In GS25, sales paid in zero-pay and conca cards for the month of April surged 94.8% over the previous month.', 'In addition, the fund invests in volatile priority ETFs with earnings earnings of dividends from assets invested and seeks stable and sustained returns.', 'Kim Jong-un\\'s finance minister said he plans to \"submit the final bill to the National Assembly soon to allow the introduction of BDCs and push for the implementation of the system in the second half of next year\".', 'The sharp exchange rate is a sign of a fall in the price of commodities, and foreign exchange losses are feared to be out of reach.', \"Meanwhile, TVEachGlobal announced the company's IPO after the close of the year, and today the company's turnover was 3,070 yuan, trading volume was 488,942 weeks, up 10 yuan from the day before the transaction.\", 'The amendment was made by the Securities and Exchange Commission, which has been asked to report the decision to the Securities and Exchange Commission.', 'The recent release of our Senior Plus Package by our Bank is a customised financial product available to customers over 50 years of age and beyond before retirement.', 'In order to protect the independence of auditors, financial transactions of affiliated accountants are subject to several restrictions.', 'The results of the dispute resolution committee are not legally binding, but can effectively be a major pressure on financial companies.']\n"
     ]
    },
    {
     "name": "stderr",
     "output_type": "stream",
     "text": [
      " 48%|████▊     | 30/63 [05:03<05:50, 10.62s/it]"
     ]
    },
    {
     "name": "stdout",
     "output_type": "stream",
     "text": [
      "['The future unionist MP said that the apartment where the candidate currently lives was auctioned on March 29, 2012, but the time when the old apartment was sold was January 7, 2013.', 'The Finance Committee expects that the issue will also be a positive factor in alleviating the uncertainty in bond supply in the bond market, which has been raised in the wake of recent security issues and policy mortgage supply expansion.', 'Regular deposits, such as security assets, are low in yield and equity investments are uncertain and rank ELS as the middle stage.', 'When fear spreads in the stock market and sexual behavior is manifested, a safety margin is secured.', \"You'd be worried every time you'd get $3 million in income minus your monthly expenses, but disappear without a trace.\", 'Kim Ho-min said: \"With the strengthening of the preference for securities, there is a continuing inflow of funds into debt funds and debt ETFs in developed countries such as Europe and the United States\".', 'The governor said that \"when considering the size of the company\\'s debt and debt, it is possible to repay the debt by buying the bond market\\'s reserve fund and other demands on the market for the time being\".', 'The Director of Finance asked for responsibility for the \"DelF\" incident and handed a \"guarantee\" to the Chairman of the Bank and the Vice Chairman of the Bank and the Vice Chairman of the Bank.', 'As interest rates rise and the time is short, it seems that most of it will be sold on retail demand.', 'Toss spent more than double its operating expenses last year, and posted a deficit of $124.4 billion, while KakaoPay posted a deficit of $62.4 billion.', 'Among the top brands in the market are Studio Dragon, Pulverization, Celtione Healthcare, Kymberblu, and Hegel.', \"The bank's pre-preparation also suggests that there will be less confusion than with the first loan.\", \"The market's central stance is that foreigners who sold more than $21 billion this year alone will not be able to increase further unless they make a 'change'.\", 'The \"efficient goods\" that have been subject to the decline in profits due to low interest rates have been forced to make an urgent revision of their business strategy next year.', \"The level of incomplete sales varies from bank to individual investor in the process of explaining the time of sale, and the bank's failure rate varies from one investor to another.\", \"It is the first time a CEO has been elected president since the film's release.\"]\n"
     ]
    },
    {
     "name": "stderr",
     "output_type": "stream",
     "text": [
      " 49%|████▉     | 31/63 [05:12<05:25, 10.16s/it]"
     ]
    },
    {
     "name": "stdout",
     "output_type": "stream",
     "text": [
      "['And you\\'re going to hear, \"If you use a big deposit, you\\'re going to be hard to get out of that charm\".', '\"The trend of declining business points is an obvious option for insurers to maximize operational efficiency, but most of the sales points are concentrated in cities, and local customers are experiencing more discomfort\", said one insurer.', 'This is in contrast to the difficulty of end-to-end cryptocurrencies such as Bitcoin, which are used as a payment method based on market supply without intrinsic value.', \"The semi-structural affiliate claimed that the vice-president's side had restricted voting rights and filed a filing for disposal.\", 'With the significant increase in national debt and company debt issuance, the bond issue volume in October reached $63.7 trillion, an increase of $10.8 trillion over the previous year.', 'With the aging of the loan car industry, the 59-year-old, who is 60 years old, recorded a household income of 10 trillion in 2013, but reached a record high of 31 trillion and 20 billion in 2013.', 'But even then, the perception that corporate banks were only corporate banks was strong, and the deposits of individual customers were small.', 'Jun Mo, who pulled out the number one number at 5am in the Central Centre of Seoul on Wednesday, also said: \"I went to the homepage for online reception the day before and I accidentally found out that 6 days was the last day of reception\".', \"The role of a manager in the management of a client's assets remains the same.\", \"Last year, Netmobil signed a stock exchange agreement (SPA) to acquire 25.08% of the company's shares in the company for $1.74 billion.\", \"The board of directors of the company asked the board of directors to determine whether the company's general meeting or board of directors had decided on the retirement payment for the president of the company, and whether the board of directors had decided on the president's appointment.\", 'The Treasury Department sees the DLF case as a major failure of the banks to manage their internal affairs rather than a mere incomplete sale.', 'In Hanoi, the ESPAC 3 announced on 15 March that the interest rate of Cape Investment Securities and Special Operators varied from 0% to 5.28%.', 'As Neiber has previously stated, \"I will not apply for a third Internet bank\", there is little chance of direct banking.', 'The project is aimed at people who need more than basic funds to pay for hospital expenses.', 'AsiaIDT announced on 15 May that the share of Asia Airlines and Special Operators fluctuated from 76.3% to 76.26%.']\n"
     ]
    },
    {
     "name": "stderr",
     "output_type": "stream",
     "text": [
      " 51%|█████     | 32/63 [05:21<05:02,  9.75s/it]"
     ]
    },
    {
     "name": "stdout",
     "output_type": "stream",
     "text": [
      "['Dushanbe said it was \"believing and waiting\" for the latest deterioration in its management.', 'The President, who is a writer, said in his New Year\\'s message on Saturday that he \"will never support a war against real estate investment\" and that he would support the \"golden age\" of the \"golden age\" at the level of policy cooperation.', \"In the first half, the company's sales revenue fell by more than 37%.\", 'But because of our highly trade-dependent economic structure, the financial sector is vulnerable to external shocks and we need to be wary of over-optimism.', 'Another securities company official said that \"the liquidity of the corporate voice or electronic debt market is not being resolved\".', 'After the intervention of the sergeant-general, government and paratroopers agreed to full-time service.', 'Although the civil society organization Financial Resources and the Kico Co-operative Committee have never accused anyone of stealing hand tools from a third party, this is the first time the victims have directly intervened.', 'One bank sales point asset manager (WM) recommended the elderly to reporters for custody products.', 'The Bureau of Statistics is reportedly developing an indicator to determine water levels based on income.', 'In some cases, the assessment criteria are maintained and the prospect is that a favorable environment will be created for the existing challengers, Kyumbank and Tossbank, and that new DarkHosts will be difficult to emerge.', \"One way is to postpone the investment period from a time when the market is stable to a certain extent, not immediately after it's been implemented.\", 'Impact Investors have formed the Social Venture Picnic 1 Investment Group, which has been making social venture investments notable this month.', 'But he said that the tax rate increases with age and the holding period.', 'The finance committee has recently given a ballot interpretation that zero-pay and other forms of payment, such as easy-to-settle, do not amount to unfair compensation if they are unpaid.', \"Meanwhile, the South Korean Land Trust announced the company's announcement after the close of the month, and today the company's turnover was 2,385 yuan, trading volume was 480,416 weeks, up 25 yuan compared to the previous trading day.\", 'A Xinhan Bank official said: \"We have recruited digital personnel two or three times in the first half\", and \"the crowd was more than the average debt\".']\n"
     ]
    },
    {
     "name": "stderr",
     "output_type": "stream",
     "text": [
      " 52%|█████▏    | 33/63 [05:30<04:48,  9.63s/it]"
     ]
    },
    {
     "name": "stdout",
     "output_type": "stream",
     "text": [
      "['KB Finance said that it recorded a net profit of $3.311.8 billion, up 8.2% from the previous year.', 'The market is predicting that the national debt interest rate will fall further, falling below 1.5% per year.', 'Samsung Life immediately stated that it had paid insurance in accordance with the nature of the insurance product, while the subscriber side claimed that the terms of the insurance company were not clear.', 'It appears that Joji was blocking her connection to the couple because this could lead to a conflict of interest situation for the minister if the financial transaction with the couple is revealed.', 'Except for 15 hotels in the United States that FuturesSet has contracted to buy from security insurance, the amount invested by domestic institutions over the past three to four years has exceeded a trillion dollars.', 'Prime Minister Abe won three elections last year and the monetary policy, which is a part of Abenomics, is expected to continue.', 'However, it is suggested that if the lending regulation continues, such as a ban on mortgage lending for over-the-counter housing, the growth of banks may decline in the long run.', 'He argued that if it grew into an asset-driven financial city, it would open up opportunities to attract investment in the difficult agricultural sector and could lead to similar realization.', 'The dividend is available to the homeless generation with a combined annual income of less than $6 million and less than $500 million.', 'Self-guarantee analysis is a service that provides easy to understand and analyze customer subscription insurance coverage based on data from Samsung and the Korea Recycling Information Center.', 'Kim So-yong, former deputy governor of KB Reserve Bank, was appointed as the new chairman of BNK Investment Bank on 30 March.', \"The DGB's new southern front was accelerated by the 2016 Laos LISUP and the Cambodian LISUP.\", 'A financial official said: \"I am not opposed to the prisoners\\' exchange checks\", and that \"the prisoners will be able to consult at any time when they are ready\".', '\"Even if there are more companies or products that can compete at the dividend rate, it\\'s rare for companies to be ahead of the binary options market in terms of performance or dividend stability\", said Joe Research.', 'In the process, investors signed up for the insurance he sold and were told to renovate.', 'Shares are a price per share, but the market cap means how much investment is needed to acquire 100% of the shares based on current shares.']\n"
     ]
    },
    {
     "name": "stderr",
     "output_type": "stream",
     "text": [
      " 54%|█████▍    | 34/63 [05:38<04:23,  9.08s/it]"
     ]
    },
    {
     "name": "stdout",
     "output_type": "stream",
     "text": [
      "[\"Several departments' domestic ministers are scheduled to visit CES, as well as the possibility of Yoonbu-bun's vice-president, who oversees the mission of the Samsung Electronics, attending.\", 'There is a valid controversy regarding the standard rate of inflation for this issue.', 'The popularity of bond ETFs is closely linked to the trend of bond preference that is increasing day by day.', 'The region-specific allocation for investors was 70%, for Europe and the Middle East 30%.', \"The analysis suggests that the US Federal Reserve's lowering of the benchmark rate to zero-iron levels influenced this decision.\", 'The industry expects that there will be more cases of speeding up sales to reduce the detail.', \"In January, when Cosby rose 8.03 percent, the company's monthly average was 3.229 billion.\", 'The high proportion of private investors in the Costock stock market is showing a slight decline in expectations for Santashvili.', \"The prospect of a temporary recovery is also a factor in the decline in institutions' confidence.\", 'Card companies, which are struggling with domestic fee sub-regulation, have been actively engaging in foreign market strategies, including the launch of 23 outlets over the past four years.', \"The implementation of the implementing regulation amends the lawsuit, the lawsuit, the new conduct, and the lawsuit, which is intended to be seen as acts without an effect on the executive branch, which directly affect the company's management and capital funds.\", 'According to the laws on capital markets and financial investment business, acts of financial investment firms that report false information in the investment incentive process or that the investor refuses to continue to encourage investment, are punishable by improper law.', '\"The United States is stepping up investment campaigns because real estate competition has a big impact on the economy\", said the spokesman, adding that \"the existing benefits have been maintained or increased, especially with the Trump administration\\'s tax reforms\".', 'The amount of the funds that were recalled by Lime Operations was reported to be 2191 billion yuan, 3839 billion yuan and 2346 billion yuan respectively.', \"The fifth floor is a huge one, with over 1,800 households, and there's only one room for 65 square meters of all-purpose and 143 square meters of all-purpose items.\", '\"In addition to the planned interest rate reduction, additional measures such as easing investment restrictions on foreign assets will be needed to address the inverse risks faced by insurers\", the insurance industry official said.']\n"
     ]
    },
    {
     "name": "stderr",
     "output_type": "stream",
     "text": [
      " 56%|█████▌    | 35/63 [05:45<03:53,  8.32s/it]"
     ]
    },
    {
     "name": "stdout",
     "output_type": "stream",
     "text": [
      "[\"The company, Bitzrosis, was forced to sell due to its liquidity deterioration and the company's warranty partner, Bitzroyd, was also forced into liquidation in July.\", 'The business is representative of the business of converting recorded voice files into text and analyzing them into big data.', 'The report concludes that as a structure that drives the national economy, it is not a bad environment for Korean venture companies to operate.', 'The private customers can use ATMs to exchange their credits and access financial services such as cash and cash transactions.', 'Foreigners currently have a net sales of $161 billion in the Cosby market, with individuals selling $27.6 billion and institutions selling $117.7 billion.', 'At the main meeting of the meeting, the KB loss insurance cooperative raised concerns about the acquisition of Furdensal Life due to the low-cost timing of the reverse-marketing and the poor sales of life insurance.', 'However, the collapse due to the coronavirus is not as good as the previous one, especially as the stock has been hit at the high point.', 'Mobile trading system (MTS) that trades shares with smartphones has overtaken PC-based home trading system (HTS) for the first time and has climbed to the top of the stock investment rankings.', 'Zaneenkaheiter announced on 7 December that Zaneenkaheimer and the special liaison rate varied from 0% to 6.35%.', 'The introduction of their own certificates and certification systems by banks has been delayed by the \"transfer coat\" controversy, which has led to the mandatory use of certificates issued by a number of financial institutions.', \"The changes in the relevant institutions have been made to allow the maximum share of certain shares to be transferred from the existing 30% to the market cap of the fund's following index.\", 'The Directorate of Finance said on 26th that the earnings per share of life insurance in the first half of this year were 2 trillion 1.283 billion, down 32.4% from the same period of the previous year.', 'The real estate is easy to calculate tax because the sale happens once, but the stock is sold several times a day, and the investment area is overseas, so it is important to consider the exchange rate.', \"The Korean TV's owned and operated private chat rooms can accommodate only 1,500 people, so you'll have to hurry up to get into the free room of the desired specialist.\", 'In the United States, the average monthly payment is usually fixed at a fixed rate, while in the United States, the monthly payment is a more flexible way to plan the money.', 'The new guarantee agreement APE, which is also a high-yielding asset, increased by 12.4% to $43.04 billion.']\n"
     ]
    },
    {
     "name": "stderr",
     "output_type": "stream",
     "text": [
      " 57%|█████▋    | 36/63 [05:54<03:51,  8.57s/it]"
     ]
    },
    {
     "name": "stdout",
     "output_type": "stream",
     "text": [
      "[\"However, BNK Bank's interpretation is that due to the fact that BNK was designated as a special status, it can receive regulatory exemptions for these two regulations.\", 'The company explains that if the members of the union put the dividend at the time of entry, there will be no interest on the intermediate rate or the construction loan until they enter.', 'He said that \"in the current crisis, in which domestic and global game degradation continues, we should prioritize innovation growth, accompanied by stable profitability, rather than \\'economic growth\\' and \"we will consider innovation growth as the year of the management paradigm shift\".', \"If you don't have the will and passion to get a dollar salary, it's hard to tell who the president of KT is.\", 'The National Assembly Standing Committee member, a member of the Standing Committee, said that according to the current account situation submitted by the Financial Director, the IRP accounts with no credits contained a single penny account account accounted for 45.8% of the total with 1727,980 accounts.', 'On the other hand, most card companies operate in a cashback manner, which is to collect disaster income, and can only be processed when the approval transaction is purchased.', \"And Starmobility's last quarter report doesn't mention the name of this former deputy.\", 'The increase in revenues after the outbreak of coronavirus has often led to the closure of the company, but it is not reflected in health insurance premiums.', 'The avian influenza (AI) outbreak is a concern that chicken-related farms are also weak in the first half of the year.', 'Delta Airlines is strictly complying with the laws of the Republic of Korea regarding this investment and we ask that there be no fraud.', 'For example, if the German national debt ceiling does not fall below 0.2% per annum for the next six months, the subscriber is given 2% of the investment amount, and the amount of the original loss is accelerated in proportion to the extent to which it falls.', 'The coronavirus epidemic in our economy is a serious and over-the-top medical emergency.', 'NH Investments Corporation has decided to extend the duration of the event due to the high customer satisfaction with lifetime free event participation, and requests for sustained offer.', \"The Bank of China's net income in the first quarter of this year was $61,81 billion, and the nation's net income was $5,728 billion.\", 'The actual rate of rise of water prices is interpreted as a limit to the fact that the level of consumption and investment is being reduced.', \"The prosecutors said Kim's fraud amounted to about 3 billion yuan.\"]\n"
     ]
    },
    {
     "name": "stderr",
     "output_type": "stream",
     "text": [
      " 59%|█████▊    | 37/63 [06:02<03:36,  8.31s/it]"
     ]
    },
    {
     "name": "stdout",
     "output_type": "stream",
     "text": [
      "['The strategy is expected to be followed by the vice-president of the company and the chairman of the board of directors, Toop Barong.', 'Most of the bonds are issued without a credit rating, but a significant number of the issuing companies are rated as BBB or lower.', 'Kakao emerged as a major factor in the escalating of the anti-submarine management dispute between the president of the Jiaoyang Hanjin Group and the former vice president of the Korean Air Force.', \"The shareholders of the bio-pharmaceutical company, a monoskeleton investment business of ants, issued an unprecedented 'investment warning' from the financial authorities amid repeated leaps.\", 'The current civil servant ethics law prevents senior officials from using internal information to take unfair private gains and from holding over 30 million shares in principle.', 'With the dollarisation showing a stronger trend, foreign insurance sales in the first quarter of this year alone were 15,735 units and the over-the-counter insurance fee was $187,4 billion.', 'Without customer data, it will be difficult for financial investors to provide financial services, and even credit ratings of consumers will be difficult, so it would be uncomfortable to divide into three entities: financial institution, applicant and supervisory authority.', 'The Monetary Authority said in its monetary policy decision-making briefing that \"construction investment coordination will continue and the recovery of exports and investment in equipment will be delayed than initially expected\".', \"The CJ Group's main subsidiary, CJJ Day Party, will be replaced in two years.\", '\"It seems that the internal question is whether Kacao Bank is a bank or an IT company\", the financial authority said.', 'The average rate of central bank assets against GDP of major countries was 10% before 2008.', 'In terms of taxes and fees, investors are also expected to have less attraction than investing in the KRX gold market.', 'Researchers at the Garagama Daiske Mizh Bank analyzed that \"sales rates to avoid risk have plunged into decline\".', 'The total amount of the fund creation is 850 billion and the investment by Samsung Ventures will be an additional 850 million.', 'Two out of 10 DLF subscribers from the two banks were people with no experience investing in high-risk products, which also increases the likelihood of incomplete sales.', \"The Bank of Reserves's adjustment for gross loss adjustment increased its earnings per share in the first quarter by 3.8% compared to the same period last year.\"]\n"
     ]
    },
    {
     "name": "stderr",
     "output_type": "stream",
     "text": [
      " 60%|██████    | 38/63 [06:10<03:29,  8.38s/it]"
     ]
    },
    {
     "name": "stdout",
     "output_type": "stream",
     "text": [
      "['While New York City continues to flood, domestic temperatures are not spreading.', 'To avoid repeating the failure, we need to check whether Cospice 2000 is supported.', 'The National Tax Agency announced on 23 that it will begin the financing of 257 people, including those who took up high-value housing, through a joint investigation with the authorities.', 'The situation is likely to be a violation of the internal control standards of the Financial Companies Divestment Act, as was the case with the DLF.', 'The entrance permits for the first passenger terminal are one on the east and west sides of each, and one on the center of the second passenger terminal.', 'The new year saw a rise in the exchange rate as the military tension between the United States and Iran escalated.', \"But there is little doubt that the government's efforts to increase income distribution equity are working.\", 'A senior official in the securities industry said: \"WTI-related funds have a significantly lower return on investment\", adding: \"It\\'s hard to expect a short-term return in the future, but the prospect of a lower return on investment is still there, given the production costs\".', 'The first rental company in the country, Yongjin Kwei, has postponed its bid to next month.', 'The fee system should be determined by market autonomy, but the government gives preference only to fintech companies.', 'It is a plan to put a third of the burden on the multi-tenant households, especially those with high incomes and many houses.', 'Imat24 is holding a strike discount event on April 14th, coinciding with Black Day.', 'According to employment portal Incruit, skiers in 14 major cities across the country have announced the hiring of Arbit.', 'However, the transfer fee is specified in the contract and it is difficult to become a compensation-related criterion.', 'The new Internet Banking offering, which was highly likely to be approved by Toshiba and Keim, was a box office failure.', 'The Commission has also decided to check the adequacy of welfare benefits and to provide for the imposition of penalties such as a refund and imprisonment of less than one year or a fine of less than 10 million yuan if the negative rate is confirmed.']\n"
     ]
    },
    {
     "name": "stderr",
     "output_type": "stream",
     "text": [
      " 62%|██████▏   | 39/63 [06:19<03:26,  8.59s/it]"
     ]
    },
    {
     "name": "stdout",
     "output_type": "stream",
     "text": [
      "['It is expected that the exports of domestic financial firms to the outside world will accelerate, as well as talks with the financial supervisory authorities of major countries in Southeast Asia.', 'The government has been providing innovation finance for the activation of Fintech since the second half of last year and implementing a concrete roadmap step by step, which has increased the expectations of industrial growth.', 'In the Pacific theater, a kidnapper was found to have hidden a precious metal in his vehicle trunk to avoid being trapped, and the amount of the ransom was recovered to the tune of 28 million yuan.', 'Of course, each financial company has a separate low-interest and low-growth situation, which increases financial health and capital increase for non-bank financial companies M&A.', 'The key is to ensure that the ten-year lease renewal right, which was only granted to the lease tenants, is also granted to the tenants of the house for a long time.', 'BNK said that the net profit of the dominant shareholders in the third quarter decreased by 1.9% compared to the same period last year to 5292 billion.', 'Tax incentives are likely to be a way to drive a household out of the year-end ranks to a favourable person.', \"The real benefits of the company's essential supplies such as foodstuffs are expected to continue for the time being.\", \"The Economic Manlab survey of the Korean director's housing transactions revealed that the 2019 housing allocation transactions in Guangdong province were the largest since the 2006 census.\", 'Starbucks has been in use in the national market since November, after the paper washing prototype in September, and has brought in cup covers that do not require washing.', 'S&S Engine Group announced on 9th that Tianjin Asan, the largest shareholder, has signed a stock guarantee project agreement to support the change in the largest shareholder.', 'In terms of financial sector, the number of accidents related to the \"Minnamon\" is 63 times higher, and the amount of accidents in the \"financial investment\" amounted to 2027 billion.', \"The bank's default amount has increased eight times over a year ago.\", \"Traditional distributor Walmart is taking part in CES and is erasing the industry's boundaries.\", \"Moreover, these taxes are the data that the people have'reported' for tax purposes.\", 'The vice president said \"many of the current forecast staff are people who have not experienced the 1997 foreign exchange crisis or the 2008 financial crisis\", and \"we will conduct training on the basis of the actual bankruptcy data of past financial institutions to repair the crisis response system\".']\n"
     ]
    },
    {
     "name": "stderr",
     "output_type": "stream",
     "text": [
      " 63%|██████▎   | 40/63 [06:27<03:10,  8.26s/it]"
     ]
    },
    {
     "name": "stdout",
     "output_type": "stream",
     "text": [
      "['From the 5th to the 23rd of this month, financial support for loan extension and new funds loan for damaged companies amounted to 130 crores, 2654 crores.', 'Financial markets are warning about self-employed debt surpluses.', 'With the administration reviewing corporate support through its fiscal stimulus, Donald Trump expects entrepreneurship to return after the coronavirus crisis and aims to make tax advantages.', 'Both apps are not yet complete.', 'The financial authorities have also taken part in the financial support measures for damaged companies, which were launched on 3 December, but only the policy finance institutions and central banks participated, and the support measures led by the Savings Bank were not included.', \"LG Life Health gave a best-of-three result in the first quarter, with the cosmetics industry rival Amorepersipe taking a 'failure' but the supply of institutional investors showed the opposite.\", \"If the rate of inflation is not fixed, and it's not reflected all year, then let's say that the rate of inflation is gradually reflected, and it's up five percent a year.\", 'But the limitations of external CEOs have led to the assessment that they are unable to reinvent deep-rooted internal power and lineage culture.', 'In a situation where the standard rate is 1.00%, 0% and even the top of the table, it is true that 1000 trillion of immovable funds are attracted to investment products, but the relevant regulations must be fixed first.', 'Other Hong Kong rebuilding complexes are also undergoing ongoing Hoga Omsa.', 'The market is estimating that the shares of the two companies are looking for a place in the marketplace as they have been divided into undervalued shares.', 'But Afrosgen applied a one-day offer to the option price the day before the option trade at a time of increased volatility.', 'Six of the 11 former presidents have served as members of parliament, and they are often called upon to do so by the political system.', 'Insurance companies also advised that they should take into account Millennial generation specific products such as share economy products, short-term, and luxury small-cost insurance.', 'Prof. Sathyan Yunnan, professor of economics at the University of Southern California, said: \"The government must definitely support the investment in facilities to increase the production of masks\".', \"One of the most famous cases of the Yuen's alleged corruption is the Kiko affair.\"]\n"
     ]
    },
    {
     "name": "stderr",
     "output_type": "stream",
     "text": [
      " 65%|██████▌   | 41/63 [06:36<03:12,  8.74s/it]"
     ]
    },
    {
     "name": "stdout",
     "output_type": "stream",
     "text": [
      "[\"The total amount of the tax on the student's income from the tax on the student's daughter and son is 7455 million more than the claimed assets of the candidate.\", 'The MP stressed that \"having a hundred million-dollar import vehicle but not paying health insurance is against equality\", and \"the health insurance department system should be more equitable\".', 'For this reason, the prospect of this massive U.S. inflow is more focused on global investment than the U.S. inflow of the coup.', 'The report also revealed that employees who were not specifically identified as data processors and were not involved in the audit process have been inspecting credit assessment records containing personal information for years without any restrictions.', 'Delta, as well as major domestic companies, are facing a management crisis due to the novel coronavirus infection, which has weakened support.', '\"The new coronavirus infection additional economic budget is planned to provide 1.5 percent sub-prime loans to support victims\\' businesses, with additional additional increases of 2 trillion yuan in the second half, and an additional increase of 150 billion yuan in the second half will be inevitable\", he added.', 'However, given that real estate prices were stable between 2007 and 2014, this claim is unfounded.', 'When you consult with employees who are about to retire, you get questions about health insurance.', 'Baez did not explain why he was selling shares in a hurry, but he is funding the Day One Fund, which helps homeless families and establishes a kindergarten.', 'But after the 0.50% point drop last week, Renyuan opened an emergency meeting on the 15th, with interest rates down by 1.00% and an unprecedented response order by President Moon.', 'The temporary bailout for variable rate mortgage lenders is that new borrowers may \"chose\" variable rates instead of fixed rates.', 'Of course, there may be some disagreements about the terms of the contract, but it is criticised that the card company has been blind to the after-sales and secondary solutions for its own benefit.', \"Industry considers the introduction of the concept of identity information as the most crucial to the data industry's activation.\", 'It was revealed that the funds of the Rime asset operation, which had been discontinued, were leaking raw materials.', 'A Financial Committee official explained that \"there will be a reduction in the cost of issuing securities or a reduction in the risk of distribution, as well as an effect of increasing corporate governance and public transparency\".', \"It's a description of how the performance of major companies can change and how investors' sales preferences can change.\"]\n"
     ]
    },
    {
     "name": "stderr",
     "output_type": "stream",
     "text": [
      " 67%|██████▋   | 42/63 [06:48<03:18,  9.45s/it]"
     ]
    },
    {
     "name": "stdout",
     "output_type": "stream",
     "text": [
      "['Delta Airlines has fallen 35% since the 20th of last month when it reported that it had acquired 4.3% of Hanjinkal shares.', 'The loan amount at the end of the loan agreement was $56 million, but today it will be reduced to $460 million.', \"In VIK, more than 95% of sales were from insurance companies, and most of the company's agents were insurance or financial planners.\", 'However, the situation has been intensified as the Hong Kong ceasefire was extended to 19 days and interest rates have shifted to a downturn.', 'A bank official said that \"the event was organized for clients who are looking to invest in the long-term interest rate fund\", and that \"monthly funds are an attractive investment alternative that can expect higher returns than deposits even if they are relatively risky\".', 'The National Health Insurance Corporation notified A. of the \"Guidance for pre-granted health insurance receivers\" that states that \"from 2016 the total amount of medical expenses will be limited in advance to the hospital and parliament, pharmacy to pay directly\".', 'If a credit card is lost, the remaining funds can be used to re-issued the card, but if the unlimited prepaid card is not registered separately, it is difficult to re-issued when it is lost or stolen.', \"The prosecutor's investigation into the Samsung Biologics is on the verge of collapse.\", \"The total of the year's financial outputs decreased by 517 billion yuan for six months, 254 billion yuan for three months and 95 billion yuan for one month.\", 'It is also expected that inter-corporate fees and fines will be replaced by digital vouchers.', \"The main country's interest rate decline increased the potential for DLF losses, but the situation was also revealed when the DLF did not stop selling goods but instead changed its structure and sold.\", 'The bill was created as a continuing industry demand that \"P2P finance be legalised\".', 'In the city of Incheon, the company plans to expand the benefit-plus-gauge franchise to 60,000 from next year.', 'If the benchmark rate does not show an additional sub-signal, it is also good to take an investment strategy in mind as the price movement and the discounting movement can result in a counter-tax.', 'Banks, on the other hand, have argued that the current law alone lacks the basis for holding the CEO accountable.', 'After the trial, La\\'s representative left the court saying that he would \"do everything in his power to save the lives of many people\" and \"do everything in his power to save the lives of others\".']\n"
     ]
    },
    {
     "name": "stderr",
     "output_type": "stream",
     "text": [
      " 68%|██████▊   | 43/63 [06:56<03:04,  9.23s/it]"
     ]
    },
    {
     "name": "stdout",
     "output_type": "stream",
     "text": [
      "[\"Earlier, it was reported that major institutional investors such as the Chan Fund did not participate in the forecast of demand despite the inclusion of the Hanhai Solutions in the purchase item as a credit rating 'AA'.\", 'During the global financial crisis, the company, which supplies kitchenware to affiliates, has been successful in succeeding its iK business.', 'If the city receives a prepayment withdrawal and buys more than 900 million dollars in homes or has more than two houses, the loan is recovered.', \"This is almost in line with the recent sale of some of the company's shares.\", 'Even if you are diagnosed with a disease, the contract is not terminated, but each disease is guaranteed once and there is also additional preparation.', '\"It\\'s the hardest part to determine the income classification and the price assessment\", he said.', \"Experts analyze that the United States has taken intranet measures against Europe as the coronavirus outbreak has skyrocketed in Europe's major countries and that the European Central Bank (ECB) has drawn further inflation as it has failed to meet market expectations with the benchmark rate of inflation.\", 'The LCCs need to be funded by the LCC.', 'On the occasion of the second anniversary of his inauguration, the Director-General of Finance Yoon Shanh Han has announced a meeting on various issues such as the financial system and the DLF crisis after the coronavirus.', 'This is due to the fact that the president of the group of Petroleum Chemical Engineering in the city of Pakanju has emphasized the establishment of military ethics since last year.', 'A, a worker in Seoul, retired last year, cutting her monthly earnings from 4.5 million to 3 million.', 'He said, \"The era of AI is coming\", and \"the concept of ups and the rules of the game are changing in every field\".', \"The government's response to the real estate measures and the coronavirus infection aftermath has spread beyond Seoul and beyond to the city's capital, the city of Shandong.\", 'Professor of Central Business School, Bachchan-e-Ma said, \"It is not meaningful to set a valid limit of 0.5%, 0.25% now because Mi Ren-eun has chosen zero interest rates\", and \"if necessary, one can lower this rate\".', 'The artist who decided to apply for employment insurance is uncertain about the working hours and income is irregular.', 'As civil dispute resolution accelerated, natural occurrences decreased.']\n"
     ]
    },
    {
     "name": "stderr",
     "output_type": "stream",
     "text": [
      " 70%|██████▉   | 44/63 [07:06<02:56,  9.31s/it]"
     ]
    },
    {
     "name": "stdout",
     "output_type": "stream",
     "text": [
      "['However, \"despite the growth of the sales, cost reduction remains a must-do\" and \"despite strong revenue growth, the strength of marketing cost reduction is going lower than initially expected\".', 'According to the agreement, South Korean shipping company Seafood has the right to sell shares in South Korean Yakurt to 5,642 yuan per share, while South Korean Yakurt has the right to buy shares in the modern manufacturing company to 7,335 yuan per share.', \"After the coronavirus, the financial markets are in a 'depression' and the 'dream of jet-tech' that wage earners have been holding is also in disarray.\", 'Therefore, small and medium-sized enterprises can exchange or convert withdrawals at a minimum of about 4%.', 'The proportion of households with more than 60 years of financial debt that rented property rose from 19.7% in 2013 to 27.4% last year.', 'The monthly apartment transaction status of the Korean Directorate shows that the transfer volume increased sevenfold from 249 in March to 1,827 in August.', 'Earlier, the Finance Minister decided in November 2017 to return the pension amount and the monthly insurance payment resources to one subscriber of Samsung Life, which are not in the minimum insurance rate.', 'He explained that the UN Global Policy Model estimates that if the budgetary outlays increase by one degree, the level of income in Korea will increase by 1.3 degrees.', '\"In 2022, the first Korean company to cover losses, Merits, will celebrate its 100th anniversary, and next year, Merits will be the leading financial group with the best history and expertise in our country to celebrate its 50th anniversary\", he added.', 'KB securities issued in June this year managed to pay up to $25 billion in company debt to 1%.', 'Ms. A, who was lying to the fraudster, transferred all of her assets to the account of the team leader of the financial director who was informed by the fraudster when the fraudster requested a transfer of funds for investigative cooperation.', 'The firm\\'s senior investment fund researcher predicted that \"the trade activation effect of this sub-scale would be limited\" and that \"it would not be easy to see major changes in the future if the trade rate is not abolished or lowered to less than half as it is today\".', 'If the amendment is passed, it is expected that the financial union will be possible to return the assets of more than 50 million recipients, spouses of families within six villages, and families within four villages.', 'In a period when the marginal profit on financial assets is higher than the cost of procurement, the inflation rate is constantly increasing and the economy is growing, but from the moment when the costs start to exceed the profits, the asset value falls and the competition faces the risk of falling back.', \"Recently, the bank's regular deposit rate has been set at $10 million, but the annual interest rate is less than $200,000.\", \"Robert Lightheiser, the U.S. Trade Representative's representative, and Steven Mnuchin, the U.S. Treasury Secretary, have been speaking with Lieutenant Premier Liu Huang, China, and other key figures in the U.S.-China trade negotiations.\"]\n"
     ]
    },
    {
     "name": "stderr",
     "output_type": "stream",
     "text": [
      " 71%|███████▏  | 45/63 [07:17<02:56,  9.79s/it]"
     ]
    },
    {
     "name": "stdout",
     "output_type": "stream",
     "text": [
      "['A recovery recovery officer said: \"The non-conforming receivers who deliberately avoid payment will collect the amount of the payment until the end and realize the taxation justice, and the life-threatening receivers will engage in customized collection activities that support the payment processing of deferred taxation, economic recovery, etc\".', \"The opposition's sports sponsorship plan will help to gain popularity by briefly putting aside the doubt that the government and the party's spreading policy ahead of next year's general elections.\", 'Cafe24 announced on 23 that the dividend rate for Teton Capital Partners ElP and its special partners varied from 8.04% to 9.25%.', 'President Iwanhee has been named as the only 10-trillion-dollar stockholder after the stock price declined by $2.30 trillion.', \"This means that the top five banks are taking over more than 80% of the total banking sector's money.\", 'The head of the Korean Investment Value Capital Operations, Ishaan, said that \"there are no high expectations for interest rate inflation this year\" and that \"the demand for incumbent assets that can make a stable profit in the event of a sustained interest rate increase\".', 'The insurance company will apply the increased rates to the car insurance starting from the beginning of next year.', 'Another legal issue of the Golden Claims Act is the shift in liability for damages.', \"The government's real estate measures to capture house prices are pushing up the forecast prices of all capital cities in Seoul and adjacent cities.\", \"According to gender and household type, women's single-parent families accounted for the largest share last year.\", '\"An investment that crosses the eye and the tree\".', 'If current interest rates are maintained until they are reached, the expected loss rate will be up to 95%.', \"It's a good idea to give the digital sector autonomy to banking and independent management.\", \"The concern is that financial risks could disrupt the group's operations.\", 'If the monthly use amount is more than 300,000 yen, 2,000 yen and 3,000 yen may be deducted for payments of 10,000 and 20,000 yen respectively from the diiso.', 'Public authorities have decided to increase the card payment rate by up to five times to attract private spending and more than 3 trillion items to buy.']\n"
     ]
    },
    {
     "name": "stderr",
     "output_type": "stream",
     "text": [
      " 73%|███████▎  | 46/63 [07:28<02:52, 10.12s/it]"
     ]
    },
    {
     "name": "stdout",
     "output_type": "stream",
     "text": [
      "[\"The development of the region's development projects, such as the new airport, is likely to be a sign of a future market for real estate.\", \"The Minie's checkcard, which was handed over to NBC Universal in March, surpassed 300,000 copies in four months.\", 'Most online malls pay the bills after at least 15 days to two months.', \"At one point, the forecast for the '2090s' was a steady rise throughout the morning, but foreigners were hit sharply by the midday after China's GDP growth rate was announced at 6.0% in the third and fourth quarters.\", 'On 28 March, the shares of KINGKPE plunged and a counter sale occurred, causing KINGKPE to lose its maximum shareholder status.', 'It offers a variety of services related to vehicle sales, from vehicle sales to installment financing, as a one-stop shop.', 'This will allow HUG to charge a lower guarantee fee for a lease contract that is not at risk, even if the guarantee period is longer.', \"However, KCGI's assessment is that the former vice president of the company's peanut butter and staff skimming and honoring issues have left the management issues at bay, and that the airline industry's non-expert in semi-structure is in the grip of criticism that KCGI has been alleging that the list has been diluted.\", \"The problem is that if it's not a grocery store, it's also a convenience store where disaster relief can be used.\", 'The Finance Committee has published a financial plan for 2020 that will be different from the New Year.', 'The Chief Commissioner noted that \"if the Financial Conduct Protection Act had been enacted, there is doubt that it would have been more effective in dealing with this situation\".', 'In terms of monthly average revenue, the figures for the two months to March were 33% lower than the previous 217.8 million cases of the coronavirus, which had spread to 1.446.6 million, and 18% after the disaster base income was paid to 1.71.1 million.', 'The total amount of public funds invested in our finances is 12 trillion 80 billion, with 87.3% recovered last month.', 'According to actual statistics compiled by the Central Bank, prepaid loans are in a downward trend.', 'However, experts argue that enforcing such regulations by law is not appropriate.', 'The first-level of the Kim Jong-Un Planning Administration on 22 July assessed the growth rate last year as \"significant to maintain 2% in difficult circumstances\" and \"a favorable result compared to the developed countries\".']\n"
     ]
    },
    {
     "name": "stderr",
     "output_type": "stream",
     "text": [
      " 75%|███████▍  | 47/63 [07:36<02:33,  9.59s/it]"
     ]
    },
    {
     "name": "stdout",
     "output_type": "stream",
     "text": [
      "['In addition to the prospect of a gradual increase in demand for semiconductors, it is anticipated that expanded fiscal policy and mitigated monetary policy will have a positive impact on our future economic growth.', 'Banks with high household outflows, such as KB National Bank, reported a larger downturn in the LCR.', 'If cash is gone, it is also important to minimize the discomfort of financial outsiders and elderly people who are experiencing difficulties in economic activity.', 'Yet the Reserve Bank is stuck in a state of tight regulation.', 'The financial authorities will announce a new balance sheet code on the 15th, where interest rates are 0.27 percentage points lower than before.', 'The airline, which is in financial difficulties due to the coronavirus pandemic, and Asia Airlines have been given a total of $2.9 trillion in emergency funding, but LCC has no further consideration other than the $30 billion announced two months ago.', 'In March, the tenure of Vice President Han Jin-kal and Vice President Ish-shuo will end.', 'Pharmaceuticals, electrical, manufacturing, non-metallic minerals, and other industries are on the rise, as are electrical, insurance, and financial services.', 'The share of Dusan Solus held by the president of the DPP and others is 61%.', 'IB Industry officials explained that \"the entity will acquire all or part of the clean country ownership and rare earth reserves and become the single largest owner\".', 'Coventech announced on 19 that the interest rate on the special reinsurance company has fluctuated from 24.77% to 24.78%.', 'The recession has had external influences, such as the US-China trade war, but not much has been done about the wrong policies.', 'Samsung said on the 27th day, non-bank customer assets increased by 4 trillion to a total of 11 trillion and 70 billion.', '16 representatives of Venture Capital (VC) are visiting the city to find local venture capital investment.', 'Researchers at the National Investment Bank of Nigeria (NHIF) noted that \"the average tax conversion of foreigners in the past year was the result of the recent slowdown in the Dram cash price rise\".', 'The foreign exchange rate is in a state of confusion as it continues to rise for four consecutive trading days.']\n"
     ]
    },
    {
     "name": "stderr",
     "output_type": "stream",
     "text": [
      " 76%|███████▌  | 48/63 [07:43<02:12,  8.83s/it]"
     ]
    },
    {
     "name": "stdout",
     "output_type": "stream",
     "text": [
      "['The disadvantage was that customers would have to visit the bank and issue a certificate to use the deposit information of banks other than lending banks.', 'The Financial Select Sector SPDR Fund, a publicly traded exchange-traded fund (ETF) that tracks U.S. bankers, has fallen nearly 30% in earnings this year.', 'In terms of supply, transportation is showing a strong median rise of 72:28, while finance is recording a strong sales rate of 23:77.', 'In April, the Hong Kong-based Jinshou Bank announced that it was looking for a strategic investor with government-led leadership.', \"The governmental dependence of low-income earners has increased even more, as public income in previous incomes, such as basic pensions, and the workers' compensation tax, has reached 70 percent of the state's earnings.\", \"The company's main refinancing product, the Wunderpool Wauron, was developed to expand the lending to middle and low-income users.\", 'Before the inauguration, the socialist directed the family members of the president of the cancer center to enter the building.', \"More than 7:30 am were already in line at the Seoul West Centre of the Small Business Development Corporation, which is responsible for Seoul's Gangseo, Yangcheong, Guruk, Yangcheong, and Golden Gate districts.\", \"If you sell infrastructure or a boiler, this structure can be a structure that doesn't save the group, but kills the goats.\", \"The analysis suggests that the shadow of Noh's unrest is casting more strongly on lower-income families.\", \"In some cases, the Japanese export regulations will also lead to further declines in the country's economy.\", 'At the same time, creditworthy workers have dropped their credit rate to a mid-year rate of 2%.', 'The governor has repeatedly mentioned that the US-China trade dispute is intensifying and the semi-continental game recovery is being delayed.', 'Fintech companies and existing cardmakers, who had been expecting synergies in the payment market, are facing a series of disputes.', 'The Finance Director, Yunshekhan, initially said that the Kieko split would be held in June.', 'The fact that it is free from all-purchase restrictions is also a factor in attracting the purchase demand, and many early entrants are not interrupted.']\n"
     ]
    },
    {
     "name": "stderr",
     "output_type": "stream",
     "text": [
      " 78%|███████▊  | 49/63 [07:52<02:03,  8.81s/it]"
     ]
    },
    {
     "name": "stdout",
     "output_type": "stream",
     "text": [
      "['Employed MPs analyzed the credit-check card payment situation of 13 vans, resulting in a receipt of 1289 million euros last year and a cost of 561 million euros.', 'When the relevant procedures are completed by February next year, the management of SKCKoolongPI will be fully transferred to (main) KoreaPI Holdings.', 'For Hyentech, LG Display and LG Kinotek account for 40% of group-based revenues, but they are also moving ahead with stable sales through long-term contracts in public sectors such as corporate entities.', \"The decline in the overall economy is continuing, but reports are emerging from the so-called 'dead boss'.\", \"Ficoc's excess fruit sales, which include the invitation-only excess that is the identity of Giant Penguins, increased 173% year-on-year.\", 'The new capital stock has decided to increase the proportion of these alternative investments to diversify the investment portfolio, which is about 70% of domestic debt, to enforce the rate of return.', 'The Silver Commissioner has stated that the financial innovation outreach and stability \"has achieved so much in our economy that it is difficult to talk about innovation without mentioning the innovation of finance\", and has outlined plans to implement the financial regulation sandbox and other measures.', 'Interest rates are more sensitive than foreign banks in the United States and Canada, and interest rates are falling, and profitability is declining.', 'SeumMedical announced on 21 January that the interest rate of the special liaison company, Roystonard Advisory Rissell, Ltd., varied from 0% to 10.29%.', 'There has never been a case of a final candidate being elected president at a general meeting of the membership.', 'There is a lot of speculation that the high-volume private investors of the imaginary were either distributing shares on the day or that the counter-sale volume was poured out following the stock issue.', 'It is also a reflection of the fact that there is no room for money to be made in a situation where the benchmark is at an all-time low.', 'The first-trading customer is also considered if the existing deposit amount is less than 1 million yuan, based on the balance of the last February tranche and the balance of the day.', 'A Samsung spokesman said: \"The 40th anniversary of the founding was quietly held without any separate external event and the 50th anniversary event is planned to be celebrated by business department\".', 'In an interview with Russian media released today, Prime Minister Liker Chan said that \"it is not very easy for the Chinese economy to maintain a moderate growth rate of more than 6%\".', \"He's been held in private, but the analysis suggests that the position of the group's vice president may be shaken.\"]\n"
     ]
    },
    {
     "name": "stderr",
     "output_type": "stream",
     "text": [
      " 79%|███████▉  | 50/63 [08:00<01:54,  8.78s/it]"
     ]
    },
    {
     "name": "stdout",
     "output_type": "stream",
     "text": [
      "['Han said the international financial market \"has shown a relatively stable outlook with the progress of trade negotiations between the two countries, but the recent military tensions in the Middle East have temporarily increased volatility\".', 'The Bank of Korea has been pursuing a zero-interest rate subsidy policy since the end of January, but it has not been successful.', \"The shareholder's share is only 5 percent! The corporate governance announcement is coming!\", 'City Bank explained that it considered the transaction that had already covered the subprime debt to the extent that the dividend exceeds the amount recommended by the division through the recovery process.', 'The aim is to address market concerns that HDC could acquire Asia Airlines as the airline industry is experiencing the worst situation due to the novel coronavirus infection.', \"The Committee on Banking and Finance of the Bank of Korea, which raised the 'Independent Minority' opinion of the Chairman of the Joint Chiefs of Staff, said last month that one of the other monetary policy committees had recognized the subordination of the benchmark rate.\", 'The two-way car company agreed on a self-employment solution to take the office cycle vacation and welfare centers as a target to overcome the management challenges.', \"The government's measures to block the 'useable' wind turbine effect on February 20 have been met with negative reviews.\", 'When consumers use affiliate financial services where air mileage is eligible, the airline pays the customers the mileage that the bank has purchased in advance.', 'The national defense ministry, a land logistics specialist, had planned to expand its activities into the maritime logistics industry and synergy.', 'The termination of the housing interchange was decided by the decision to abolish the interchange, which was the initial goal.', 'According to data received from the Bank of Uzbekistan and KEB One Bank, the DLF remainder sold to senior citizens aged 65 and older was 45.7% of the total in 2020 billion.', 'The awards ceremony was attended by 15 winners, including the 100 millionth-ranked GTR35 customer in the domestic equity sector.', 'Most of the sales were offline, so there was little demand for automation.', 'The new line connecting Ansan, Sihuang City and the passenger train will be commissioned in August and will include GTX-B lines and the Western Line of light rail.', 'The event will be attended by venture investors, such as accelerators, venture capitalists, and securities and capital market investors.']\n"
     ]
    },
    {
     "name": "stderr",
     "output_type": "stream",
     "text": [
      " 81%|████████  | 51/63 [08:08<01:39,  8.31s/it]"
     ]
    },
    {
     "name": "stdout",
     "output_type": "stream",
     "text": [
      "['It is already well known that after he became head of GS Home Shopping, long speeches disappeared from the ceremony, or that he received a report on a single piece of paper.', 'The financial authority provides financial support for companies and individuals affected by the typhoon ringing, such as exchange-rate advantages and special insurance.', 'The agreement was signed by the President of the Muongkam Trust, the Minister of Finance, the President of the Ministry of Modern Resources, the Governor of North Korea, and the Director of the National Fund Corporation of Kimsang-ju.', \"If the suspicions are true, they are a step in the right direction, along with the government's strict anti-money laundering policy.\", 'The company, which is currently recruiting, is also interested in recruiting IT directors.', 'The company has recommended a Global X portfolio advisory lab, which is a US exchange-traded fund operator.', 'To prevent moral excesses such as loss of assets liquidation of asset depositors, risk insurance regulations are also introduced where asset depositors bear some of the credit risk of liquidity securities.', 'He also said that the best results in a given situation are the true leaders, and that companies that grow faster have leadership that accumulates success and experience.', 'A newlywed spouse, a first-time home buyer, or two or more children are eligible for up to $7 million in income.', 'According to the stepdown structure, there are eight early repayment and one-time repayment opportunities available, with earnings per share of the company being 8.1% per year.', 'KDI said in its November issue of KDI Economic Trends, published on 7 November, \"Supply investments have declined, but construction investments have shown a decline, and exports have declined significantly\".', \"Bbank also sold the related DLF to six investors in April and May, when the UK's CMS currency was falling, for $1.63 billion.\", 'The government held a 25-day interim State Assembly and adopted a National Security Agreement on 40 trillion yuan of long-term industrial security funds bonds.', \"Financial institutions may reduce the short-term damage, but it's only a fallout that weakens the market itself.\", 'The US dollar has adopted the zero rate and the central banks of different countries have gone the other way around, with a big cut of more than 0.5 percent.', 'There are about 60,000 companies in the country, all of them small and medium-sized enterprises, founders and CEOs over the age of 60.']\n"
     ]
    },
    {
     "name": "stderr",
     "output_type": "stream",
     "text": [
      " 83%|████████▎ | 52/63 [08:18<01:37,  8.86s/it]"
     ]
    },
    {
     "name": "stdout",
     "output_type": "stream",
     "text": [
      "[\"Currently, 35 of the 51 'communication equipment' occupations are on the rise, while only some are on the rise.\", 'Money in bank accounts and other accounts has been slowing down.', 'The data was compiled from a card issued by a national card company and paid for by a branch in Japan.', 'If the stock falls compared to the counter time, you get a profit, but if the stock rises at the point when it has to pay, you see a loss.', \"The argument that the bulk sale of DLF by both banks is the result of the two financial companies' management strategy to increase the commission revenue.\", 'The fact that the New York stock fell more than 1% overnight as PMI fell also affected domestic stocks.', 'FITO has a market capitalization of €134.4 billion after the IPO and will enter the Kodak market on the 17th.', \"First, it is likely that the appeal of the common man was limited to the physical actions of Joe's father at his mother's home.\", 'Dike&D announced on 11 that the dividend rate for its special shareholders, Stick Ventures, etc., fluctuated from 16.84% to 0.2%.', 'The vice president of Samsung Electronics for the purpose of recycling has found Samsung Display business in Tainan.', 'The positive outlook for the trade negotiations between the two countries seems to have affected.', 'Among the default debts, corporate debt accounted for 88.4% of total default debts with 15 trillion and 50 billion.', '\"We need a strong monetary policy that is overly strong despite the controversy over asset inflation and policy utility\", he added, adding that \"Japanese Bank (BOJ) first sought monetary policy diversification and began to buy equity and market-based mutual funds (ETFs) as the only central bank\".', 'The largest asset-sized Samsung Life is likely to be allocated to KPMG.', 'The government of Kim Jong-un, which wanted to declare its entry into the developed countries within the term, has been rushing to freeze foreign exchange to meet the requirements of the Organization for Economic Co-operation and Development (OECD).', 'When using a card, it must be used within the UlsanPay licensing business, and the card payment branch is recommended to use QR resolution at the branch because card fees are charged at the checkout level.']\n"
     ]
    },
    {
     "name": "stderr",
     "output_type": "stream",
     "text": [
      " 84%|████████▍ | 53/63 [08:24<01:21,  8.18s/it]"
     ]
    },
    {
     "name": "stdout",
     "output_type": "stream",
     "text": [
      "['Stock options are the right of a company executive to buy shares at a predetermined price.', \"If the current rate decline reflects and is realised until the next year, the central bank's rate of interest may drop to zero.\", 'The Ministry of Justice has estimated that if the debt limit is increased to 5 billion won, about 48% of the recovery cases in the last five years will be able to use the recovery period.', 'The main target groups are the \"millennials\" of 19-24 years old, familiar with social networking and with a rapid cultural spread.', 'The CEO stressed that \"it is the leader\\'s important job to create an environment where employees can perform their duties\".', 'In March, a power accident hit the Samsung flat-bed semiconductor plant, causing 50 billion yuan in damages.', \"The financial information application 'Moneybox' handles and automatically transfers a small amount of huge sums of money that customers receive after making financial transactions into deposit accounts or investment products.\", 'The uptake of the cryptocurrency market is clear from the UBMI.', 'The loss of the world-famous \"Rame Salil president\" was a blow to the world through recordings with the securities center director for the victims and the former mother-in-law who invested in the Lime Assan Operating Fund.', 'Brittyscape announced on 30 March that the share of steel and special suppliers fluctuated from 26.39% to 27.75% in the same period.', 'The problem is that with the increase in leveraged ETN investments, the volatility rate is increasing and market prices are overvalued at a large scale compared to the index.', 'Social trading is a concept similar to SNS where users become participants in transactions and become producers of information.', \"If you're 60 years old, the monthly premiums are 170,1329 and 90,9527 respectively.\", 'The share of labour quality contributing to growth rates has also declined from 0.7% in 2001 to 2010 to 0.4% since 2016.', 'However, if you choose the all-time loan method, the loan term is less than one year, and the maximum period can be extended to four years.', \"It's a foreign exchange-linked derivative bond that generates revenue from foreign interest rates.\"]\n"
     ]
    },
    {
     "name": "stderr",
     "output_type": "stream",
     "text": [
      " 86%|████████▌ | 54/63 [08:33<01:13,  8.18s/it]"
     ]
    },
    {
     "name": "stdout",
     "output_type": "stream",
     "text": [
      "['Rather, interest rate DLS is mainly sold by banks rather than securities firms, and in some cases, due to the large number of elderly investors, it is also expected that a higher compensation rate will be recognized than the closed-end mutual fund dispute settlement case that was disclosed this time.', 'The small payments of less than 500,000 won accounted for 32.2%, while the medium to one million won and the overpayment of over 1 million won amounted to 67.8%, which was analyzed as users preferred large payments to enjoy cashback benefits at once.', 'So I wanted to know why it was missing, and who was claiming to exclude it, so I looked at the so-called first-level and second-level checks.', \"Some have interpreted Mahindra's refusal to support the two-car system as an attempt to draw support from the Korean government ahead of the general election.\", \"While the unconventional bidding is popular, it's unusual to extend the time to the day.\", 'In the run-up to the summer holiday season, more and more people are looking for heavy cars.', \"The US government's economic backing policy, which led the reversal of the New York stock market the day before, was unable to alleviate investor uncertainty, but instead, it was a backlash to the Korean stock market decline of foreign investors as the number of exporters in the US soared.\", 'During this time, there were discomforts and discomforts for insured persons who needed to submit health checks and medical records to visit hospitals to obtain insurance.', '48.6% of those who said they were upper class said that there was a higher chance of a rise in class in the next generation.', 'In contrast, the liquidity bond principal is used as a replacement fund and the remaining distribution funds are taken by Hanshin Corporation.', 'In particular, given the prospect that companies that make and sell financial products will accelerate different phenomena in the future, there is an urgent question about how the role of the treasurer should evolve, but there is still no discussion about it.', 'However, KT is accused of being a party to the Fair Trading Act and the financial authorities have suspended the due diligence investigation.', 'In the case of the games, the last week of February and the first week of March, when the coronavirus was rapidly spreading, revenue fell to 75% year-on-year levels.', 'The financial regulator is not taking any measures to mitigate the adverse effects of the periodic audit.', 'The financial authorities estimated that the total financial supply capacity of the financial sector would increase from 206 trillion to 394 trillion euros in line with this measure.', 'The company is also closely verifying the nature of the money and shares received from Samsung, which are suspected of being fake.']\n"
     ]
    },
    {
     "name": "stderr",
     "output_type": "stream",
     "text": [
      " 87%|████████▋ | 55/63 [08:39<01:00,  7.57s/it]"
     ]
    },
    {
     "name": "stdout",
     "output_type": "stream",
     "text": [
      "['CP and corporate debt means that interest rates rise, and demand falls, and prices fall.', 'He said, \"We\\'re going to build on technological innovation to create financial services that are easy for customers to access anywhere\", and that \"the more Fintech and trade insurance come together, the more convenience customers will have\".', 'This is the first time since 2014 that the index has fallen below 500.', \"The financial subsidiary of the Samsung Group's president, Egan He, has been suspended for health reasons.\", 'The financial statements show that the total credit score of 940,000 mutual finance and insurance card and capital loan users rose by an average of 33 points, with 460,000 estimating that the credit rating will rise above first class.', 'Leverage ETFs and ETNs in particular are risk commodities that see a profit double when the base index rises and a loss double when the index falls.', 'Since the first half, there has been a lot of market visibility that the market is likely to adjust.', \"The Korean Development Research Institute (KDI) has diagnosed that the country's game is rapidly declining due to the spread of the novel coronavirus infection.\", 'He advised: \"If the market turns upside down, the strategy is valid to transfer the top market capitalization trades into the portfolio\".', 'A rural industrial official explained that \"the rental fee was suspended for one year after the end of the rental cuts period for the continuation of the rental with small and medium enterprises\".', \"It is noted that the Bank of China, which is facing a decision on the institutional sanctions related to the Foreign Direct Investment (FDI) derivatives fund, will re-create the past'self-insurance fund emergency situation'.\", 'The key investment strategies that Mugar and Buffett have developed include: Quality Investment Strategy, Investment Strategy, Anti-Hightech Strategy.', 'Income has dropped dramatically, but there are limits to reducing consumption, so savings have to be reduced.', \"The securities industry is seeing a surge in shares in Yiwu Comptec's bio-sector.\", \"It's better to stop the investment of ordinary investors than to reinforce the requirement to invest in mutual funds.\", 'The recent series of financial support policies are a special measure by the financial parties and the financial parties, the central bank and the entire financial system, with a desperate commitment to safeguard the civilian economy.']\n"
     ]
    },
    {
     "name": "stderr",
     "output_type": "stream",
     "text": [
      " 89%|████████▉ | 56/63 [08:45<00:49,  7.06s/it]"
     ]
    },
    {
     "name": "stdout",
     "output_type": "stream",
     "text": [
      "['Currexo noted that \"the call option of the other side was not compulsory\" and \"the latest shareholders know that they have abandoned the option and settled the dividend relationship by staying on the equation\".', \"The possibility of a contract is still unclear, but the government and Seoul city's inability to participate in the auction itself is raising issues.\", \"The stock is more than 90 percent diversified, and we're in a hurry to make a deal that we can't diversify a little bit, but we know that sometimes the contract rate is less than 20 percent.\", 'The Vice President also pointed out that there was no specific discussion about whether the upward coordination of the current 50 million reserve protection limit should be implemented.', 'The Korean Trust Fund said it will launch a platform to provide information on the issuance of shares, bonds and other venture capital companies next year.', 'LG Display repays the loan principal to SPC as a way to repay short-term debt with the funds.', 'The prices of homes in the Yangtze city center, such as Guangxin, Mapo, Chengdu, Songkyu, Zhongshan, and Chengdu, were first lowered this year.', 'In a market where stock volatility is high, investors are increasingly interested in goodwill.', 'And it also suggests that the quantum expansion has not reached its limit.', 'Even the townhouses, which were considered to be the property of the rich, were home to goods that greatly lowered prices.', 'Companies applying for exemption are to be granted final exemption by the Securities and Exchange Commission at the end of this month.', 'It is said that Japanese funds are unlikely to leave the country.', 'According to the Treasury Department, 738 companies lost a total of $3.224.7 billion in currency exchange rates during the financial crisis.', 'On the third floor of the center, there is a complex of shops where you can see PB centers and securities operations.', 'KB Finance Group, including MBK Partners, one to three PEFs in the country, Han & Company, IMM Private Equity (PE), and Taiwanese Pubon Group, took on the challenge.', 'CFDs are the only means by which individuals can easily go public.']\n"
     ]
    },
    {
     "name": "stderr",
     "output_type": "stream",
     "text": [
      " 90%|█████████ | 57/63 [08:53<00:44,  7.37s/it]"
     ]
    },
    {
     "name": "stdout",
     "output_type": "stream",
     "text": [
      "['He explained that \"the Stewardship Code is a guideline for increasing the value of the enterprise in which institutional investors invest and increasing the value of their clients\\' assets, a universal norm that many institutional investors are introducing in the developed capital markets of the United States and the United Kingdom\".', 'However, the Fair Committee considers that there are aspects that are contrary to the position of the joint stock company system to ensure transparency of ownership structures through vertical source structures and prevent risk transfer between subsidiaries.', \"It's useful because it's a bloodline in the offline payments market.\", 'In terms of volume, 76 transactions totaling more than 900 million dollars accounted for 82.6% of the total.', 'From next year, the annual pension account tax credit limit for people over 50 will increase to 9 million.', 'It is also worth noting who is the former director of the company and who is the current president of the company.', 'On the last two days, the Finance Committee completed the shareholder eligibility examination and approved the shareholder change of Lotdecard and Lotde losses insurance.', \"According to the financial authorities, the imaginary branches of the reserve banks have been caught in the process of issuing loans under the guarantee of CB, New Owner's Equity Bank (BW) and others, taking up more than 5% of the shares, but not approved by the financial director.\", 'Without a rise in viewership and sales of overseas tickets, the state will be forced to pay a tax.', 'The unemployment rate is expected to rise as the stock market improves.', 'The total value of the exports was more than 100 million yuan in the past year, and the current value of the exports is 1.2 billion yuan.', 'With the end of the October interest rate-depreciation event of the Federal Reserve Board (Fed), the US Central Bank lacked the momentum to pull the market rate down, and the recent supply slump and interest rate surges have caused problems with supply, but the lack of demand has largely worked.', 'HANLAIMS announced on 23rd that the share of geographic and special regulators fluctuated from 56.93% to 57.02%.', 'At the end of the year, the demand for CFDs is expected to increase from over 1 billion yuan to over 300 million yuan.', 'In terms of the dollar, the Dram export volume fell 4% last month.', \"Joe, who appeared in front of the press cameras, wore a purple manto man with the wheel's logo on the front.\"]\n"
     ]
    },
    {
     "name": "stderr",
     "output_type": "stream",
     "text": [
      " 92%|█████████▏| 58/63 [09:21<01:08, 13.78s/it]"
     ]
    },
    {
     "name": "stdout",
     "output_type": "stream",
     "text": [
      "['Accordingly, if a local social economy company receives a loan from a bank to obtain a guarantee from the credit guarantee fund, it can receive 100% of the loan amount at a guarantee fee of 0.2%.', 'The term \"deposit-first foreign exchange issue\" is an instrument that is used to assign foreign currency funds earned by the large bank from investors to foreign assets and to provide an agreed interest rate to investors, with the addition of the function of receivable withdrawal.', 'Of the roughly $50 billion in bonds, $10 billion are reportedly held by affiliates, and the rest by private investors.', \"The city is only able to apply for households below 900 million yuan, and plans to set income requirements afterwards to alleviate the burden of residents' errors.\", 'At the forefront of economic warfare, there is a voice among the good companies that if they want to win the war against Japan, they need to move their policies from the \"crossroads\" to the \"crossroads\".', 'However, given the effectiveness of the operation, which was not used in the wake of the 9/11 attacks in 2001 or the global financial crisis in 2008, it is unclear whether the defenses against Cell Korea will actually be possible.', 'Financial institutions are also sympathetic to the need for the creation of a security fund, but there are concerns that healthy rate regulation can be a burden on financial companies.', 'At one time, it was difficult to survive to consider closing branches, but it was successful in strengthening its sales in the corporate and retail finance market with thorough localization and advanced corporate finance.', 'At the present time, within the index of constantly climbing limits, a splendid individual field of study is developing internally, and opportunities are emerging to make a large profit in a short period of time even if only one field is well chosen.', 'With the increase in short-term transactions, online shopping transactions are also increasing in card trading.', 'The first phase of the 59 m2 of the Gurusung New Forest has increased from 770 million to 810 million in the same period.', 'There is also an analysis that the focus should be on the sales growth and the middle market of high-performance retailers at a time when large retailers are becoming more and more competitive.', 'If the mitigation regime in the major countries is to continue, the long-term interest rate rise is expected to be limited.', 'The demand for the first generation of the transition continued to increase, and the transition to the first and third phase of the transition to the second phase of the transition to the second phase of the transition to the second phase of the transition to the second phase of the transition to the second phase of the transition to the second phase of the transition to the second phase of the transition to the second phase of transition to the second phase of transition to the second phase of transition to the second phase of transition to the second phase of transition to the second phase of transition to the second phase of transition to the second phase of transition to the second phase of transition to the second phase of transition to the second phase of transition to the second phase of transition to the second phase of transition to the second phase of transition to the second phase of transition to the second phase of transition to the', 'The Chairman of the Korean asset management company, Moonchang, will end his term on November 17.', 'The president of the company has sold 110,000 shares of Elbeam Holdings, bringing the holding to 228,865,348 units.']\n"
     ]
    },
    {
     "name": "stderr",
     "output_type": "stream",
     "text": [
      " 94%|█████████▎| 59/63 [09:29<00:48, 12.01s/it]"
     ]
    },
    {
     "name": "stdout",
     "output_type": "stream",
     "text": [
      "['The current law only stipulates that a person who has worked for more than 10 years in the inspection and supervision of banks, financial investment firms, insurance companies, and other financial institutions as a deputy inspector general is qualified as a statutory inspector.', 'The Ministry of Small and Medium-Sized Enterprises conducted a survey of 520 retail and traditional market entry companies across the country, which found that the small businesses in Seoul region reported a 64% decrease in their 15-week sales compared to before the outbreak.', 'The scale of the original losses is also difficult for individuals who invest through banks to handle.', 'Kim Yongguo, chief investigator of One Finance Investment, said: \"The recent inflation rate has suddenly increased as the institution\\'s current market rate has strengthened\", and \"It is expected that the institution\\'s dividend sale rate profit and liquidity will decline faster than expected\".', 'Because the interest rate on borrowing billions of dollars from banks is not that big.', 'The spokesman for the trust fund, Fink, said he wanted \"a swift revision of the law on recruitment of information\" and stressed that \"if the financial sector needs it, we will be able to act as an assistant at any time\".', 'The dealer requested a product model name and failed to sign up after visiting the store more than three times.', 'If the price does not fall below the benchmark during the period of the period of the agreement, the company guarantees the promised return and pays the return even if the price has never fallen below a fixed percentage during the entire investment period.', 'The supervisory authority is of the view that the risks transferred from the non-financial sector cannot be assessed and regulated and that there are limits to the overall supervision of financial institutions.', 'The market is focusing on the next bait of the so-called \"East Asian American Legion\", which surprised the world with record sales taxes in the wake of the new coronavirus infection.', 'With a stable dividend and the prospect of becoming the largest listed company in the country, it is expected to lead the future conglomerate market.', 'In January, three companies participated in the initial procurement of CareLabs, SGPrivate Equity (PE) and Brain Content-TS Investment Consortium, including Aperl Capital.', \"The DLF case is a mixture of individual and institutional sanctions, and the results of the executive and institutional sanctions are announced at once after the financial committee's regular meeting.\", 'Property experts have also suggested that profitable properties such as offices, intellectual property centers, commercial facilities are now less expensive due to government regulation of housing monopolies, tax incentives and other factors.', 'For example, before you join ELT, you must create a diagnostic certificate that identifies the issues and get more than a certain score to make your membership acceptable.', 'The newly formed financial institution is planning to invest USD 100 billion in the D-bridge, a startup park development project, which is being promoted by Daengzhi, and create an offline platform for innovation development in Seoul and Bhushan.']\n"
     ]
    },
    {
     "name": "stderr",
     "output_type": "stream",
     "text": [
      " 95%|█████████▌| 60/63 [09:40<00:34, 11.48s/it]"
     ]
    },
    {
     "name": "stdout",
     "output_type": "stream",
     "text": [
      "['Financial authorities are facing a challenge to granting approval if the capital equity issue is not resolved, as permanent stability is a priority condition for the establishment of financial institutions.', 'Since investors over 50 are regulated, the financial institutions targeted the investors under 49 and the fastest to manage 20 to 30 people.', 'If we look at the semiconductor, the Dram is again 20 to 30 percent of the maximum.', \"The dispute settlement procedure of the Directorate of Finance for the resolution of the 'Kiko' issue will be reopened soon after several months of delay.\", 'However, the effect of the lowering of the standard rate of interest on the RCN was not long and the stock price shifted to the drug price, which reduced the downward impact, and at 11 a.m. the exchange rate shifted to the rate of rise.', 'In particular, the October rise is significantly outweighing the 3% target for consumer goods management set by the Chinese government in the first place.', 'The representative of the Iduo Exponential said that \"if the distribution price is implemented, the distribution price will be lower compared to the price, but in the case of supply imbalance, it will be as high as the price of surrounding apartments\" and that \"it is difficult to see the decrease in the supply price to bring down the price around\".', \"The company is offering a preventive'security device' to finance officials whose funding has been cut short due to the coronavirus infection shock, in preparation for further deterioration of their situation.\", 'Following the pilot, 18 banks, including six general banks and two internet banks, including KakaoBank and Kaybank, will participate in formal services starting on December 18.', \"If you run out of money on a payday, you're going to be empty in a matter of days.\", 'A senior official at the Bank said: \"The business consultation procedure will be more convenient\".', 'The measure was not reported until September, but the number of deals in apartments in Seoul fell by 56.33% compared to the previous year.', 'In some cases, it is analyzed that the government has commissioned the Korea Tax Relief Research Institute to reflect the results of the taxation improvement research.', 'The key and indicator (KPIs) of the problematic bank sales staff is expected to be a guideline rather than an overall regulation as it is an internal indicator that includes financial corporate business secrets.', \"It's not good that prices are low, which are determined by the supply and demand that you want to buy and sell.\", 'The Directorate of Finance had several opportunities to identify the ideological implications of the foreign currency related DLF case, but missed it.']\n"
     ]
    },
    {
     "name": "stderr",
     "output_type": "stream",
     "text": [
      " 97%|█████████▋| 61/63 [09:46<00:19,  9.91s/it]"
     ]
    },
    {
     "name": "stdout",
     "output_type": "stream",
     "text": [
      "['Today, it is interpreted that the vice president\\'s visit to Samsung was related to the intention of taking over the non-electronic affiliate as the \"Samsung General Manager\".', 'The majority of the industries are manufacturing, except paper, paper, telecommunications, other manufacturing, nonmetal, printing, media processing, and transportation.', 'The Finance Minister pointed out that out of 51 stock options granted to the stock options trading companies, only eight sales profit realisation companies have increased their annual losses, but the stock options event has increased each year.', 'Real estate experts advise that it is preferable for multi-tenants to register as a tenant before the law is amended.', \"The taxpayer's liability for the decline in value is also strengthened if taxpayers deliberately undermine the value of shares, such as large-scale dividends, corporate divisions, and sales transfers.\", 'Toss, who fell on the reserve list, had been issuing a free cash withdrawal card at the national ATM since March.', 'The official explained that the opening of the holidays is an inevitable measure.', 'The loan, which is due during the annual leave period this year, is automatically extended by the 28th day following the annual leave.', \"In addition, for the Internet shopping mall operators, CBs also reflect the operator's credit rating and increase the accuracy of the assessment.\", 'The financial investment industry, with a long day and a new product flowing in, is a war zone.', 'In partnership with Minmiko, they have also provided a cafe space for animal products and accommodation.', 'The lease expired, and the \"transition tax\" was also everywhere, because the lease was not able to find new tenants or to return the deposit to the tenant.', 'If this statement is made, it will be the first time since liberation that the stock market has actually taken a step backwards.', 'Samsung has emphasized that the Spen of this new product has a faster reaction rate than the previous product and can be freely expressed in fine print and painting.', 'In the context of a first-phase trade agreement with China, the signing of the Hong Kong Human Rights Act is likely to be a source of some uncertainty in the market.', 'Many of these have been hit by stock market crashes, fraud and embezzlement.']\n"
     ]
    },
    {
     "name": "stderr",
     "output_type": "stream",
     "text": [
      " 98%|█████████▊| 62/63 [09:53<00:09,  9.01s/it]"
     ]
    },
    {
     "name": "stdout",
     "output_type": "stream",
     "text": [
      "['The official of the corporate bank said that \"the bank president of Yoonyang has ordered various support measures for small and medium-sized enterprises that are suffering from the spread of coronavirus\", and \"provided effective and active support until the situation is calm\".', 'After joining, Jo, who had been doing intensive transactions with retail banks for a long time, naturally raised her credit rating, which was recognized as interest-bearing private property and reduced the interest rate of $30 million to 4.00% from 4.96%.', 'The representative of the office industry, which remained as part of the low-cost ordering processor, said that the minister had crossed the water in the first half of the year with the Chinese factory halt.', 'A Trans-Life official said: \"We expect the system of all-party systems to be established and companies to continue to develop in a stable way\".', 'At the time of the DLF, some banks had said they would accept the results before the split was held, but this time they asked for an extension to decide whether to accept the recommendation.', 'The benefits are very low in the rating, while the best rating is not available when using a tax-free coupon.', 'The increase in the payment of insurance premiums due to the upward adjustment of the labour force, the reduction of wages, and the increase in the rate of damage to auto insurance is due to the decrease in the rate of insurance premiums.', 'The term loan is applied to the loan amount of the insurance policy at the scheduled rate or the interest rate, so that the interest rate is reflected until the interest rate is reflected.', 'The commercial credit card (PLCC) that Ibecoria has handheld and introduced is a new model.', 'The preference for incumbency funds, which can regularly receive profits in markets with increased volatility, is high.', 'The U.S. market is in demand for 6,000 to 7,000 replacements per year.', 'Inometry announced on 17 that the interest rate of special liaison officer Kim Jun-bo ranged from 20.71% to 19.67%.', 'In the last five years, the Internet banking law, which has established the status of a general owner, which requires that financial laws and fair trade laws violations have no power, has become a barrier to commercial success.', 'Aielscience announced on 25 March that the interest rate on the special regulator, Songsung, had fluctuated from 39.37% to 41.84%.', 'The plan also includes expanding the coverage of the insurance premium next year if the cost of repairs is incurred.', 'The company is expanding its investment area from the management participation sum fund (PEF) to start-ups.']\n"
     ]
    },
    {
     "name": "stderr",
     "output_type": "stream",
     "text": [
      "100%|██████████| 63/63 [10:02<00:00,  9.56s/it]"
     ]
    },
    {
     "name": "stdout",
     "output_type": "stream",
     "text": [
      "['At the founding of the city of Pyongyang, Kim Ji-su, chairman of the congress of the Republic of Korea, and the general association of the executive of the state of Jiangsu, chairman of the board of directors of the congress of the Republic of Korea, and the director of the congress of the state of Korea, were present at the demonstration.', 'The prospect of the most sensitive self-employed loans to the cold war already surpassing 700 trillion dollars suggests that they could be the brainstem of our economy.', 'The role of Ben Bernanke, the chief financial officer during the financial crisis, was decisive.', 'The vice president of the marketing department of the Kimintao Basket Bank said, \"We have launched a cross-border insurance platform to increase customer access\", and \"we will continue to improve the system so that customers can subscribe to the most suitable products for themselves\".', 'B said that the market needs more capital and that if it invests, it will give a fixed profit of 2.5% per month along with a guarantee of raw money.', 'The dollar exchange rate with the basic tax has surpassed 1,200 yuan and the Korean stock market is also undergoing a median tax on foreign investors.', 'Earlier, the Economic Reform Union estimated that the former president of the company received retirement payments from nine companies at $50 billion.', \"I'm not holding my money right now, so I'm going to have a steady income, and that's going to offset the risk of financial assets.\"]\n",
      "        sid     분야                                                한국어  \\\n",
      "0    170001  금융/증시   연말까지 시간을 번 금호가 일종의 '시간 끌기' 전략을 구사하고 있다는 분석도 나온다.   \n",
      "1    170002  금융/증시           한진그룹은 이미 계열사 분리를 통해 2세들의 갈등을 해결한 경험이 있다.   \n",
      "2    170003  금융/증시             허 회장의 동생인 허태수 GS홈쇼핑 부회장이 신임 회장으로 추대됐다.   \n",
      "3    170004  금융/증시  부동산 프로젝트 파이낸싱(PF) 부실에 이어 비부동산 분야에서도 자산 건전성에 비상...   \n",
      "4    170005  금융/증시  12·16 부동산 대책 이후 불거진 서울 등 일부 지역의 전세가 상승 현상에 대해 ...   \n",
      "..      ...    ...                                                ...   \n",
      "995  170996  금융/증시  김인태 농협은행 마케팅부문 부행장은 \"비대면 보험 플랫폼을 출시해 고객들의 접근성을...   \n",
      "996  170997  금융/증시  B씨는 상장을 위해선 자본이 좀 더 필요하다며 투자만 하면 원금 보장과 함께 월 2...   \n",
      "997  170998  금융/증시  원화 약세로 원·달러 환율이 1,200원대를 돌파하며 고공행진을 이어가자 외국인 투...   \n",
      "998  170999  금융/증시  앞서 경제개혁연대는 조양호 전 회장이 9개 회사에서 받을 퇴직금을 1950억원으로 ...   \n",
      "999  171000  금융/증시  당장 내 손에 돈을 쥐고 있지 않아도 소득이 꾸준히 생길 것이기 때문에 금융자산에서...   \n",
      "\n",
      "                                                    영어  한국어_어절수  영어_단어수  \\\n",
      "0    Some analysts say that Kumho, which has earned...       12      22   \n",
      "1    Hanjin Group has had already experienced resol...       10      17   \n",
      "2    Huh Tae-soo, vice chairman of GS Home Shopping...        9      18   \n",
      "3    Following the insolvency of real estate projec...       11      23   \n",
      "4    The government has announced a follow-up respo...       17      27   \n",
      "..                                                 ...      ...     ...   \n",
      "995  We have launched a non-face-to-face insurance ...       25      44   \n",
      "996  Mr. B said that more capital is necessary to b...       18      30   \n",
      "997  Foreign investors are also intensively selling...       15      28   \n",
      "998  Earlier, the Solidarity for Economic Reform es...       11      21   \n",
      "999  It will cancel out the proportion of risky ass...       16      30   \n",
      "\n",
      "     길이_분류 난이도 수행기관  \n",
      "0        2   중  플리토  \n",
      "1        2   하  플리토  \n",
      "2        1   하  플리토  \n",
      "3        2   중  플리토  \n",
      "4        3   하  플리토  \n",
      "..     ...  ..  ...  \n",
      "995      5   상  플리토  \n",
      "996      3   중  플리토  \n",
      "997      3   중  플리토  \n",
      "998      2   중  플리토  \n",
      "999      3   중  플리토  \n",
      "\n",
      "[1000 rows x 9 columns]\n"
     ]
    },
    {
     "name": "stderr",
     "output_type": "stream",
     "text": [
      "\n"
     ]
    }
   ],
   "source": [
    "batch_size = 16\n",
    "test_df_small = test_df[:1000]\n",
    "#batches = [test_df.iloc[i:i + batch_size] for i in range(0, len(test_df), batch_size)]\n",
    "batches = [test_df_small.iloc[i:i + batch_size] for i in range(0, len(test_df_small), batch_size)]\n",
    "\n",
    "english_translations = []\n",
    "\n",
    "for df_batch in tqdm(batches):\n",
    "    inputs = tokenizer(text=df_batch['한국어'].tolist(), return_tensors=\"pt\", padding=True, truncation=True)\n",
    "    translated_tokens = nllb.generate(\n",
    "        **inputs, forced_bos_token_id=tokenizer.lang_code_to_id[\"eng_Latn\"]\n",
    "    )\n",
    "    translated_sentences = tokenizer.batch_decode(translated_tokens, skip_special_tokens=True)\n",
    "    \n",
    "    print(translated_sentences)\n",
    "    english_translations += translated_sentences\n",
    "\n",
    "df_result = pd.concat(batches, ignore_index=True)\n",
    "print(df_result)"
   ]
  },
  {
   "cell_type": "code",
   "execution_count": 44,
   "metadata": {},
   "outputs": [
    {
     "name": "stdout",
     "output_type": "stream",
     "text": [
      "0.16413727395819905\n"
     ]
    }
   ],
   "source": [
    "english_translations_split = [t.split() for t in english_translations]\n",
    "\n",
    "english_sentences = test_df['영어'].tolist()[:1000]\n",
    "english_sentences_split = [[s.split()] for s in english_sentences]\n",
    "\n",
    "print(corpus_bleu(english_sentences_split, english_translations_split))"
   ]
  },
  {
   "cell_type": "code",
   "execution_count": 48,
   "metadata": {},
   "outputs": [],
   "source": [
    "from transformers.optimization import Adafactor\n",
    "from transformers import get_constant_schedule_with_warmup\n",
    "#nllb.cuda();\n",
    "optimizer = Adafactor(\n",
    "    [p for p in nllb.parameters() if p.requires_grad],\n",
    "    scale_parameter=False,\n",
    "    relative_step=False,\n",
    "    lr=1e-4,\n",
    "    clip_threshold=1.0,\n",
    "    weight_decay=1e-3,\n",
    ")\n",
    "scheduler = get_constant_schedule_with_warmup(optimizer, num_warmup_steps=100)"
   ]
  },
  {
   "cell_type": "code",
   "execution_count": 54,
   "metadata": {},
   "outputs": [],
   "source": [
    "data_train = train_df.copy()\n",
    "data_train = data_train.filter(['한국어', '영어'], axis=1)\n"
   ]
  },
  {
   "cell_type": "code",
   "execution_count": 60,
   "metadata": {},
   "outputs": [
    {
     "name": "stdout",
     "output_type": "stream",
     "text": [
      "(['또 이와 관련, 양국 관계자들이 모여 공동선언문을 발표할 예정이다.'], ['And regarding this, officials from the two countries will also gather to issue a joint declaration.'], 'kor_Hang', 'en_Latn')\n"
     ]
    }
   ],
   "source": [
    "LANGS = [('영어', 'en_Latn'), ('한국어', 'kor_Hang')]\n",
    "\n",
    "def get_batch_pairs(batch_size, data=data_train[:1000]):\n",
    "    (l1, long1), (l2, long2) = random.sample(LANGS, 2)\n",
    "    x, y = [], []\n",
    "    for _ in range(batch_size):\n",
    "        item = data.iloc[random.randint(0, len(data)-1)]\n",
    "        x.append(item[l1])\n",
    "        y.append(item[l2])\n",
    "    return x, y, long1, long2\n",
    "\n",
    "print(get_batch_pairs(1, data_train[:1000]))"
   ]
  },
  {
   "cell_type": "code",
   "execution_count": 61,
   "metadata": {},
   "outputs": [],
   "source": [
    "batch_size = 16 \n",
    "max_length = 60 \n",
    "training_steps = 2000 \n",
    "losses = [] \n",
    "MODEL_SAVE_PATH = '/models'"
   ]
  },
  {
   "cell_type": "code",
   "execution_count": 62,
   "metadata": {},
   "outputs": [
    {
     "name": "stderr",
     "output_type": "stream",
     "text": [
      "  0%|          | 1/2000 [00:15<8:32:07, 15.37s/it]"
     ]
    },
    {
     "name": "stdout",
     "output_type": "stream",
     "text": [
      "0 2.1635966300964355\n"
     ]
    },
    {
     "name": "stderr",
     "output_type": "stream",
     "text": [
      " 10%|▉         | 190/2000 [1:13:34<17:24:52, 34.64s/it]"
     ]
    }
   ],
   "source": [
    "nllb_new = deepcopy(nllb)\n",
    "nllb_new.train()\n",
    "x, y, loss = None, None, None\n",
    "\n",
    "tq = trange(len(losses), training_steps)\n",
    "for i in tq:\n",
    "    x, y, lang1, lang2 = get_batch_pairs(batch_size)\n",
    "    try:\n",
    "        tokenizer.src_lang = lang1\n",
    "        x = tokenizer(x, return_tensors='pt', padding=True, truncation=True, max_length=max_length).to(nllb_new.device)\n",
    "        tokenizer.src_lang = lang2\n",
    "        y = tokenizer(y, return_tensors='pt', padding=True, truncation=True, max_length=max_length).to(nllb_new.device)\n",
    "        y.input_ids[y.input_ids == tokenizer.pad_token_id] = -100\n",
    "\n",
    "        loss = nllb_new(**x, labels=y.input_ids).loss\n",
    "        loss.backward()\n",
    "        losses.append(loss.item())\n",
    "\n",
    "        optimizer.step()\n",
    "        optimizer.zero_grad(set_to_none=True)\n",
    "        scheduler.step()\n",
    "\n",
    "    except: \n",
    "        optimizer.zero_grad(set_to_none=True)\n",
    "        x, y, loss = None, None, None\n",
    "        print('error', max(len(s) for s in x + y), e)\n",
    "        continue\n",
    "\n",
    "    if i % 1000 == 0:\n",
    "        print(i, np.mean(losses[-1000:]))\n",
    "\n",
    "    if i % 1000 == 0 and i > 0:\n",
    "        nllb_new.save_pretrained(MODEL_SAVE_PATH)\n",
    "        tokenizer.save_pretrained(MODEL_SAVE_PATH)"
   ]
  },
  {
   "cell_type": "code",
   "execution_count": null,
   "metadata": {},
   "outputs": [],
   "source": []
  }
 ],
 "metadata": {
  "kernelspec": {
   "display_name": "mt-class",
   "language": "python",
   "name": "python3"
  },
  "language_info": {
   "codemirror_mode": {
    "name": "ipython",
    "version": 3
   },
   "file_extension": ".py",
   "mimetype": "text/x-python",
   "name": "python",
   "nbconvert_exporter": "python",
   "pygments_lexer": "ipython3",
   "version": "3.11.4"
  }
 },
 "nbformat": 4,
 "nbformat_minor": 2
}
