{
 "cells": [
  {
   "cell_type": "code",
   "execution_count": 4,
   "metadata": {},
   "outputs": [
    {
     "name": "stdout",
     "output_type": "stream",
     "text": [
      "Unexpected exception formatting exception. Falling back to standard exception\n"
     ]
    },
    {
     "name": "stderr",
     "output_type": "stream",
     "text": [
      "Traceback (most recent call last):\n",
      "  File \"/Users/avnukala/opt/miniconda3/envs/nllb/lib/python3.12/site-packages/IPython/core/interactiveshell.py\", line 3550, in run_code\n",
      "  File \"/var/folders/cb/p6mtjc5s67j7113ydz6m0tph0000gq/T/ipykernel_50221/3050812179.py\", line 1, in <module>\n",
      "    from transformers import NllbTokenizerFast, AutoModel\n",
      "  File \"/Users/avnukala/opt/miniconda3/envs/nllb/lib/python3.12/site-packages/transformers/__init__.py\", line 26, in <module>\n",
      "    from . import dependency_versions_check\n",
      "  File \"/Users/avnukala/opt/miniconda3/envs/nllb/lib/python3.12/site-packages/transformers/dependency_versions_check.py\", line 16, in <module>\n",
      "    from .utils.versions import require_version, require_version_core\n",
      "  File \"/Users/avnukala/opt/miniconda3/envs/nllb/lib/python3.12/site-packages/transformers/utils/__init__.py\", line 18, in <module>\n",
      "    from huggingface_hub import get_full_repo_name  # for backward compatibility\n",
      "    ^^^^^^^^^^^^^^^^^^^^^^^^^^^^^^^^^^^^^^^^^^^^^^\n",
      "ImportError: cannot import name 'get_full_repo_name' from 'huggingface_hub' (/Users/avnukala/opt/miniconda3/envs/nllb/lib/python3.12/site-packages/huggingface_hub/__init__.py)\n",
      "\n",
      "During handling of the above exception, another exception occurred:\n",
      "\n",
      "Traceback (most recent call last):\n",
      "  File \"/Users/avnukala/opt/miniconda3/envs/nllb/lib/python3.12/site-packages/pygments/styles/__init__.py\", line 45, in get_style_by_name\n",
      "ModuleNotFoundError: No module named 'pygments.styles.default'\n",
      "\n",
      "During handling of the above exception, another exception occurred:\n",
      "\n",
      "Traceback (most recent call last):\n",
      "  File \"/Users/avnukala/opt/miniconda3/envs/nllb/lib/python3.12/site-packages/IPython/core/interactiveshell.py\", line 2144, in showtraceback\n",
      "  File \"/Users/avnukala/opt/miniconda3/envs/nllb/lib/python3.12/site-packages/IPython/core/ultratb.py\", line 1435, in structured_traceback\n",
      "  File \"/Users/avnukala/opt/miniconda3/envs/nllb/lib/python3.12/site-packages/IPython/core/ultratb.py\", line 1326, in structured_traceback\n",
      "  File \"/Users/avnukala/opt/miniconda3/envs/nllb/lib/python3.12/site-packages/IPython/core/ultratb.py\", line 1173, in structured_traceback\n",
      "  File \"/Users/avnukala/opt/miniconda3/envs/nllb/lib/python3.12/site-packages/IPython/core/ultratb.py\", line 1063, in format_exception_as_a_whole\n",
      "  File \"/Users/avnukala/opt/miniconda3/envs/nllb/lib/python3.12/site-packages/IPython/core/ultratb.py\", line 1114, in get_records\n",
      "  File \"/Users/avnukala/opt/miniconda3/envs/nllb/lib/python3.12/site-packages/pygments/styles/__init__.py\", line 47, in get_style_by_name\n",
      "pygments.util.ClassNotFound: Could not find style module 'pygments.styles.default', though it should be builtin.\n"
     ]
    }
   ],
   "source": [
    "from transformers import NllbTokenizerFast, AutoModel\n",
    "import torch\n",
    "import torch.nn as nn\n",
    "import pandas as pd\n",
    "from sklearn.model_selection import train_test_split\n",
    "from torch.utils.data import DataLoader, TensorDataset"
   ]
  },
  {
   "cell_type": "code",
   "execution_count": null,
   "metadata": {},
   "outputs": [],
   "source": [
    "# Load model to test from hugging face\n",
    "tokenizer = NLLBTokenizerFast.from_pretrained(\"snunlp/KR-Medium\", do_lower_case=False)\n",
    "bert_model = AutoModel.from_pretrained(\"snunlp/KR-Medium\")"
   ]
  },
  {
   "cell_type": "code",
   "execution_count": null,
   "metadata": {},
   "outputs": [],
   "source": [
    "csv_path = \"en_kr_data/train/ko2en_training_csv/ko2en_finance_1_training.csv\" # finance translations\n",
    "df = pd.read_csv(csv_path, sep=',')\n",
    "data = df[\"한국어\"].tolist()\n"
   ]
  },
  {
   "cell_type": "code",
   "execution_count": null,
   "metadata": {},
   "outputs": [],
   "source": [
    "from tqdm.auto import tqdm, trange\n",
    "texts_with_unk = [\n",
    "    text for text in tqdm(trans_df.tyv) \n",
    "    if tokenizer.unk_token_id in tokenizer(text).input_ids\n",
    "]\n",
    "print(len(texts_with_unk))\n",
    "# 163\n",
    "s = random.sample(texts_with_unk, 5)\n",
    "print(s)"
   ]
  },
  {
   "cell_type": "code",
   "execution_count": null,
   "metadata": {},
   "outputs": [],
   "source": [
    "translation_head = TranslationHead(768, 256, 256)\n",
    "model = KR_BERT_TranslationHead(bert_model, translation_head)\n",
    "\n",
    "loss_function = nn.CrossEntropyLoss()\n",
    "optimizer = torch.optim.Adam(model.parameters(), lr=0.001)\n",
    "\n",
    "# Training loop\n",
    "num_epochs = 5\n",
    "\n",
    "for epoch in range(num_epochs):\n",
    "    transfer_model.train()\n",
    "\n",
    "    for batch in train_dataloader:\n",
    "        input_ids, attention_mask, labels = batch\n",
    "        print(input_ids.shape, attention_mask.shape, labels.shape)\n",
    "        outputs = model(input_ids=input_ids, attention_mask=attention_mask)\n",
    "        # Assuming logits is a 2D tensor and labels is a 1D tensor\n",
    "        # Assuming logits is a 3D tensor [batch_size, sequence_length, hidden_size]\n",
    "        logits = outputs\n",
    "\n",
    "        # Flatten the logits and labels for calculating the loss\n",
    "        labels_flat = labels.view(-1)\n",
    "        print(logits_flat.shape, labels_flat.shape)\n",
    "\n",
    "        # CrossEntropyLoss expects 2D logits and 1D labels\n",
    "        loss = loss_function(logits_flat, labels_flat)\n",
    "\n",
    "\n",
    "        optimizer.zero_grad()\n",
    "        loss.backward()\n",
    "        optimizer.step()\n",
    "\n",
    "    model.eval()\n",
    "\n",
    "    # model.eval()\n",
    "    # with torch.no_grad():\n",
    "    #     predictions = model(validation_input_ids, validation_attention_mask)\n",
    "    #     predictions = [tokenizer.decode(pred) for pred in predictions]\n",
    "    #     targets = [tokenizer.decode(target) for target in validation_target_ids]\n",
    "    #     bleu_score_value = calculate_bleu_score(predictions, targets)\n",
    "\n",
    "    #     print(f\"Epoch {epoch}, BLEU Score: {bleu_score_value}\")\n",
    "    print(f\"Epoch {epoch + 1}, Training Loss: {loss.item()}\")"
   ]
  }
 ],
 "metadata": {
  "kernelspec": {
   "display_name": "krbert",
   "language": "python",
   "name": "python3"
  },
  "language_info": {
   "codemirror_mode": {
    "name": "ipython",
    "version": 3
   },
   "file_extension": ".py",
   "mimetype": "text/x-python",
   "name": "python",
   "nbconvert_exporter": "python",
   "pygments_lexer": "ipython3",
   "version": "3.12.0"
  }
 },
 "nbformat": 4,
 "nbformat_minor": 2
}
