{
 "cells": [
  {
   "cell_type": "code",
   "execution_count": null,
   "metadata": {},
   "outputs": [],
   "source": [
    "from transformers import AutoTokenizer, AutoModel\n",
    "import torch\n",
    "import torch.nn as nn\n",
    "import pandas as pd\n",
    "from sklearn.model_selection import train_test_split\n",
    "from torch.utils.data import DataLoader, TensorDataset"
   ]
  },
  {
   "cell_type": "code",
   "execution_count": null,
   "metadata": {},
   "outputs": [],
   "source": [
    "# Load model to test from hugging face\n",
    "tokenizer = AutoTokenizer.from_pretrained(\"snunlp/KR-Medium\", do_lower_case=False)\n",
    "bert_model = AutoModel.from_pretrained(\"snunlp/KR-Medium\")"
   ]
  },
  {
   "cell_type": "code",
   "execution_count": null,
   "metadata": {},
   "outputs": [],
   "source": [
    "# Simple seq2seq translation head for transfer learning\n",
    "class TranslationHead(nn.Module):\n",
    "    def __init__(self, input_size, hidden_size, output_size):\n",
    "        super(TranslationHead, self).__init__()\n",
    "        self.encoder = nn.GRU(input_size, hidden_size, batch_first=True)\n",
    "        self.decoder = nn.GRU(hidden_size, hidden_size, batch_first=True)\n",
    "        self.output_layer = nn.Linear(hidden_size, output_size)\n",
    "\n",
    "    def forward(self, input_ids, attention_mask):\n",
    "        bert_output = bert_model(input_ids=input_ids, attention_mask=attention_mask)\n",
    "        encoder_input = bert_output.last_hidden_state\n",
    "        _, encoder_hidden = self.encoder(encoder_input)\n",
    "        decoder_input = torch.zeros_like(encoder_hidden)\n",
    "        decoder_hidden = encoder_hidden\n",
    "        outputs = []\n",
    "\n",
    "        # use teacher forcing\n",
    "        for _ in range(encoder_input.size(1)):\n",
    "            decoder_output, decoder_hidden = self.decoder(decoder_input, decoder_hidden)\n",
    "            output_step = self.output_layer(decoder_output)\n",
    "            outputs.append(output_step)\n",
    "            decoder_input = output_step\n",
    "        outputs = torch.stack(outputs, dim=1)\n",
    "\n",
    "        return outputs"
   ]
  },
  {
   "cell_type": "code",
   "execution_count": null,
   "metadata": {},
   "outputs": [],
   "source": [
    "class KR_BERT_TranslationHead(nn.Module):\n",
    "    def __init__(self, model, translation_head):\n",
    "        super(KR_BERT_TranslationHead, self).__init__()\n",
    "        self.bert_model = model\n",
    "        self.translation_head = translation_head\n",
    "        self.fc = nn.Linear(256, 400)\n",
    "\n",
    "    def forward(self, input_ids, attention_mask):\n",
    "        translation_output = self.translation_head(input_ids, attention_mask)\n",
    "        translation_output = self.fc(translation_output)\n",
    "        return translation_output"
   ]
  },
  {
   "cell_type": "code",
   "execution_count": null,
   "metadata": {},
   "outputs": [],
   "source": [
    "csv_path = \"en_kr_data/train/ko2en_training_csv/ko2en_finance_1_training.csv\" # finance translations\n",
    "df = pd.read_csv(csv_path, sep=',')\n",
    "\n",
    "# Tokenize and encode the Korean and English sentences\n",
    "tokenized_inputs = tokenizer(df[\"한국어\"].tolist(), return_tensors=\"pt\", padding=True, truncation=True)\n",
    "labels = tokenizer(df[\"영어\"].tolist(), return_tensors=\"pt\", padding=True, truncation=True)[\"input_ids\"]\n",
    "\n",
    "\n",
    "train_dataset = TensorDataset(tokenized_inputs[\"input_ids\"], tokenized_inputs[\"attention_mask\"], labels)\n",
    "batch_size = 1\n",
    "train_dataloader = DataLoader(train_dataset, batch_size=batch_size, shuffle=True)"
   ]
  },
  {
   "cell_type": "code",
   "execution_count": null,
   "metadata": {},
   "outputs": [],
   "source": [
    "translation_head = TranslationHead(768, 256, 256)\n",
    "model = KR_BERT_TranslationHead(bert_model, translation_head)\n",
    "\n",
    "loss_function = nn.CrossEntropyLoss()\n",
    "optimizer = torch.optim.Adam(model.parameters(), lr=0.001)\n",
    "\n",
    "# Training loop\n",
    "num_epochs = 5\n",
    "\n",
    "for epoch in range(num_epochs):\n",
    "    transfer_model.train()\n",
    "\n",
    "    for batch in train_dataloader:\n",
    "        input_ids, attention_mask, labels = batch\n",
    "        print(input_ids.shape, attention_mask.shape, labels.shape)\n",
    "        outputs = model(input_ids=input_ids, attention_mask=attention_mask)\n",
    "        # Assuming logits is a 2D tensor and labels is a 1D tensor\n",
    "        # Assuming logits is a 3D tensor [batch_size, sequence_length, hidden_size]\n",
    "        logits = outputs\n",
    "\n",
    "        # Flatten the logits and labels for calculating the loss\n",
    "        labels_flat = labels.view(-1)\n",
    "        print(logits_flat.shape, labels_flat.shape)\n",
    "\n",
    "        # CrossEntropyLoss expects 2D logits and 1D labels\n",
    "        loss = loss_function(logits_flat, labels_flat)\n",
    "\n",
    "\n",
    "        optimizer.zero_grad()\n",
    "        loss.backward()\n",
    "        optimizer.step()\n",
    "\n",
    "    model.eval()\n",
    "\n",
    "    # model.eval()\n",
    "    # with torch.no_grad():\n",
    "    #     predictions = model(validation_input_ids, validation_attention_mask)\n",
    "    #     predictions = [tokenizer.decode(pred) for pred in predictions]\n",
    "    #     targets = [tokenizer.decode(target) for target in validation_target_ids]\n",
    "    #     bleu_score_value = calculate_bleu_score(predictions, targets)\n",
    "\n",
    "    #     print(f\"Epoch {epoch}, BLEU Score: {bleu_score_value}\")\n",
    "    print(f\"Epoch {epoch + 1}, Training Loss: {loss.item()}\")"
   ]
  }
 ],
 "metadata": {
  "kernelspec": {
   "display_name": "krbert",
   "language": "python",
   "name": "python3"
  },
  "language_info": {
   "codemirror_mode": {
    "name": "ipython",
    "version": 3
   },
   "file_extension": ".py",
   "mimetype": "text/x-python",
   "name": "python",
   "nbconvert_exporter": "python",
   "pygments_lexer": "ipython3",
   "version": "3.11.5"
  }
 },
 "nbformat": 4,
 "nbformat_minor": 2
}
