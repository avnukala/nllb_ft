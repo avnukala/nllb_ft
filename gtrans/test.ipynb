{
 "cells": [
  {
   "cell_type": "code",
   "execution_count": 1,
   "metadata": {},
   "outputs": [],
   "source": [
    "from googletrans import Translator\n",
    "import pandas as pd"
   ]
  },
  {
   "cell_type": "code",
   "execution_count": 2,
   "metadata": {},
   "outputs": [
    {
     "data": {
      "text/html": [
       "<div>\n",
       "<style scoped>\n",
       "    .dataframe tbody tr th:only-of-type {\n",
       "        vertical-align: middle;\n",
       "    }\n",
       "\n",
       "    .dataframe tbody tr th {\n",
       "        vertical-align: top;\n",
       "    }\n",
       "\n",
       "    .dataframe thead th {\n",
       "        text-align: right;\n",
       "    }\n",
       "</style>\n",
       "<table border=\"1\" class=\"dataframe\">\n",
       "  <thead>\n",
       "    <tr style=\"text-align: right;\">\n",
       "      <th></th>\n",
       "      <th>한국어</th>\n",
       "      <th>영어</th>\n",
       "    </tr>\n",
       "  </thead>\n",
       "  <tbody>\n",
       "    <tr>\n",
       "      <th>0</th>\n",
       "      <td>따라서 피고인에게 배임의 범의가 없었다는 피고인 및 변호인의 주장은 이유 없다.</td>\n",
       "      <td>Therefore, the Defendant and the Lawyer's clai...</td>\n",
       "    </tr>\n",
       "    <tr>\n",
       "      <th>1</th>\n",
       "      <td>또한 피고 제품들 자체에도 피고의 약칭과 용량을 나타내는 'HM 50' 또는 'HM...</td>\n",
       "      <td>In addition, the Defendant's products themselv...</td>\n",
       "    </tr>\n",
       "    <tr>\n",
       "      <th>2</th>\n",
       "      <td>쟁점 거래를 전후하여 열림기술 주식의 매매사례를 정리해보면, 아래 표와 같다.</td>\n",
       "      <td>To summarize the cases of the sale of the shar...</td>\n",
       "    </tr>\n",
       "    <tr>\n",
       "      <th>3</th>\n",
       "      <td>원고가 사용한 '(주)환경일보' 중 '(주)' 부분은 식별력이 없는 부분이므로, '...</td>\n",
       "      <td>Since the \"Co., Ltd.\" part of the \"Environment...</td>\n",
       "    </tr>\n",
       "    <tr>\n",
       "      <th>4</th>\n",
       "      <td>원고 1과 피고 사이에 생긴 1, 2심을 통한 총 소송비용과 나머지 원고들과 피고 ...</td>\n",
       "      <td>The total cost of litigation through the first...</td>\n",
       "    </tr>\n",
       "  </tbody>\n",
       "</table>\n",
       "</div>"
      ],
      "text/plain": [
       "                                                 한국어  \\\n",
       "0       따라서 피고인에게 배임의 범의가 없었다는 피고인 및 변호인의 주장은 이유 없다.   \n",
       "1  또한 피고 제품들 자체에도 피고의 약칭과 용량을 나타내는 'HM 50' 또는 'HM...   \n",
       "2        쟁점 거래를 전후하여 열림기술 주식의 매매사례를 정리해보면, 아래 표와 같다.   \n",
       "3  원고가 사용한 '(주)환경일보' 중 '(주)' 부분은 식별력이 없는 부분이므로, '...   \n",
       "4  원고 1과 피고 사이에 생긴 1, 2심을 통한 총 소송비용과 나머지 원고들과 피고 ...   \n",
       "\n",
       "                                                  영어  \n",
       "0  Therefore, the Defendant and the Lawyer's clai...  \n",
       "1  In addition, the Defendant's products themselv...  \n",
       "2  To summarize the cases of the sale of the shar...  \n",
       "3  Since the \"Co., Ltd.\" part of the \"Environment...  \n",
       "4  The total cost of litigation through the first...  "
      ]
     },
     "execution_count": 2,
     "metadata": {},
     "output_type": "execute_result"
    }
   ],
   "source": [
    "df = pd.read_csv('gtrans/data/val/ko2en_law_2_validation.csv', usecols=['한국어', '영어'])\n",
    "\n",
    "df.head()"
   ]
  },
  {
   "cell_type": "code",
   "execution_count": 3,
   "metadata": {},
   "outputs": [
    {
     "ename": "TypeError",
     "evalue": "'Translated' object is not iterable",
     "output_type": "error",
     "traceback": [
      "\u001b[0;31m---------------------------------------------------------------------------\u001b[0m",
      "\u001b[0;31mTypeError\u001b[0m                                 Traceback (most recent call last)",
      "\u001b[1;32m/Users/christine/Library/CloudStorage/OneDrive-JohnsHopkins/jhu/2023 fall/mt/final project/KR-BERT-Transfer-Learning/gtrans/test.ipynb Cell 3\u001b[0m line \u001b[0;36m9\n\u001b[1;32m      <a href='vscode-notebook-cell:/Users/christine/Library/CloudStorage/OneDrive-JohnsHopkins/jhu/2023%20fall/mt/final%20project/KR-BERT-Transfer-Learning/gtrans/test.ipynb#W2sZmlsZQ%3D%3D?line=4'>5</a>\u001b[0m \u001b[39m# for i in range((len(korean_sentences) - 1) // 100):\u001b[39;00m\n\u001b[1;32m      <a href='vscode-notebook-cell:/Users/christine/Library/CloudStorage/OneDrive-JohnsHopkins/jhu/2023%20fall/mt/final%20project/KR-BERT-Transfer-Learning/gtrans/test.ipynb#W2sZmlsZQ%3D%3D?line=5'>6</a>\u001b[0m \u001b[39m#     translations = translator.translate(korean_sentences[100*i:100*(i+1)])\u001b[39;00m\n\u001b[1;32m      <a href='vscode-notebook-cell:/Users/christine/Library/CloudStorage/OneDrive-JohnsHopkins/jhu/2023%20fall/mt/final%20project/KR-BERT-Transfer-Learning/gtrans/test.ipynb#W2sZmlsZQ%3D%3D?line=6'>7</a>\u001b[0m translations \u001b[39m=\u001b[39m translator\u001b[39m.\u001b[39mtranslate(korean_sentences[\u001b[39m1\u001b[39m])\n\u001b[0;32m----> <a href='vscode-notebook-cell:/Users/christine/Library/CloudStorage/OneDrive-JohnsHopkins/jhu/2023%20fall/mt/final%20project/KR-BERT-Transfer-Learning/gtrans/test.ipynb#W2sZmlsZQ%3D%3D?line=8'>9</a>\u001b[0m english_sentences \u001b[39m=\u001b[39m [t\u001b[39m.\u001b[39mtext \u001b[39mfor\u001b[39;00m t \u001b[39min\u001b[39;00m translations]\n\u001b[1;32m     <a href='vscode-notebook-cell:/Users/christine/Library/CloudStorage/OneDrive-JohnsHopkins/jhu/2023%20fall/mt/final%20project/KR-BERT-Transfer-Learning/gtrans/test.ipynb#W2sZmlsZQ%3D%3D?line=9'>10</a>\u001b[0m english_sentences[:\u001b[39m5\u001b[39m]\n",
      "\u001b[0;31mTypeError\u001b[0m: 'Translated' object is not iterable"
     ]
    }
   ],
   "source": [
    "korean_sentences = df['한국어'].tolist()\n",
    "\n",
    "translator = Translator()\n",
    "\n",
    "# for i in range((len(korean_sentences) - 1) // 100):\n",
    "#     translations = translator.translate(korean_sentences[100*i:100*(i+1)])\n",
    "translations = translator.translate(korean_sentences[1])\n",
    "\n",
    "english_sentences = [t.text for t in translations]\n",
    "english_sentences[:5]"
   ]
  },
  {
   "cell_type": "code",
   "execution_count": null,
   "metadata": {},
   "outputs": [],
   "source": []
  }
 ],
 "metadata": {
  "kernelspec": {
   "display_name": "mt-class",
   "language": "python",
   "name": "python3"
  },
  "language_info": {
   "codemirror_mode": {
    "name": "ipython",
    "version": 3
   },
   "file_extension": ".py",
   "mimetype": "text/x-python",
   "name": "python",
   "nbconvert_exporter": "python",
   "pygments_lexer": "ipython3",
   "version": "3.11.4"
  }
 },
 "nbformat": 4,
 "nbformat_minor": 2
}
